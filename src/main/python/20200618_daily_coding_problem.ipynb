{
 "cells": [
  {
   "cell_type": "markdown",
   "metadata": {},
   "source": [
    "> This problem was asked by Google.\n",
    "> \n",
    "> An XOR linked list is a more memory efficient doubly linked list. Instead of each node holding `next` and `prev` fields, it holds a field named `both`, which is an XOR of the next node and the previous node. Implement an XOR linked list; it has an `add(element)` which adds the element to the end, and a `get(index)` which returns the node at index.\n",
    "> \n",
    "> If using a language that has no pointers (such as Python), you can assume you have access to `get_pointer` and `dereference_pointer` functions that converts between nodes and memory addresses."
   ]
  },
  {
   "cell_type": "code",
   "execution_count": 21,
   "metadata": {},
   "outputs": [],
   "source": [
    "# merely to mock pointers in python\n",
    "mem = [None] * 1000\n",
    "\n",
    "class XorListNode:\n",
    "    \n",
    "    max_addr = 0\n",
    "    \n",
    "    def __init__(self, val, both: int=0):\n",
    "        self.val = val\n",
    "        self.both = both\n",
    "        \n",
    "        # merely to mock pointers in python\n",
    "        self.addr = XorListNode.max_addr + 1\n",
    "        XorListNode.max_addr = self.addr\n",
    "        mem[self.addr] = self\n",
    "        \n",
    "    def get_pointer(self) -> int:\n",
    "        return self.addr\n",
    "\n",
    "class XorList:\n",
    "    def __init__(self, init_val):\n",
    "        self.root = XorListNode(init_val)\n",
    "        \n",
    "    def add(self, val):\n",
    "        curr_node = self.root\n",
    "        prev_both = 0\n",
    "        next_addr = 0\n",
    "        while curr_node.both ^ prev_both != 0:\n",
    "            next_addr = curr_node.both ^ prev_both\n",
    "            prev_both = curr_node.both\n",
    "            curr_node = dereference_pointer(next_addr)\n",
    "        new_node = XorListNode(val, next_addr)  # initialize new node's `both` as the address of curr_node\n",
    "        curr_node.both = curr_node.both ^ new_node.get_pointer()  # update curr_node's `both` to XOR of its prev and next addrs\n",
    "        \n",
    "    def get(self, index: int) -> XorListNode:\n",
    "        curr_node = self.root\n",
    "        prev_addr = 0\n",
    "        curr_addr = 0\n",
    "        for i in range(index):\n",
    "            next_addr = curr_node.both ^ prev_addr\n",
    "            next_node = dereference_pointer(next_addr)\n",
    "            prev_addr = next_node.both ^ curr_addr\n",
    "            curr_node = next_node\n",
    "            curr_addr = next_addr\n",
    "        return curr_node\n",
    "    \n",
    "    def __str__(self) -> str:\n",
    "        s = ''\n",
    "        for i, e in enumerate(mem):\n",
    "            s += f'mem[{i}] = {e}\\n'\n",
    "            if e is None:\n",
    "                  break\n",
    "        return s\n",
    "\n",
    "def dereference_pointer(addr: int) -> XorListNode:\n",
    "    return mem[addr]    "
   ]
  },
  {
   "cell_type": "code",
   "execution_count": 22,
   "metadata": {},
   "outputs": [
    {
     "name": "stdout",
     "output_type": "stream",
     "text": [
      "mem[0] = None\n",
      "\n",
      "mem[0] = None\n",
      "\n",
      "mem[0] = None\n",
      "\n"
     ]
    },
    {
     "ename": "AssertionError",
     "evalue": "",
     "output_type": "error",
     "traceback": [
      "\u001b[0;31m---------------------------------------------------------------------------\u001b[0m",
      "\u001b[0;31mAssertionError\u001b[0m                            Traceback (most recent call last)",
      "\u001b[0;32m<ipython-input-22-59113e5103c4>\u001b[0m in \u001b[0;36m<module>\u001b[0;34m\u001b[0m\n\u001b[1;32m      5\u001b[0m \u001b[0mlst\u001b[0m\u001b[0;34m.\u001b[0m\u001b[0madd\u001b[0m\u001b[0;34m(\u001b[0m\u001b[0;34m'c'\u001b[0m\u001b[0;34m)\u001b[0m\u001b[0;34m\u001b[0m\u001b[0;34m\u001b[0m\u001b[0m\n\u001b[1;32m      6\u001b[0m \u001b[0mprint\u001b[0m\u001b[0;34m(\u001b[0m\u001b[0mlst\u001b[0m\u001b[0;34m)\u001b[0m\u001b[0;34m\u001b[0m\u001b[0;34m\u001b[0m\u001b[0m\n\u001b[0;32m----> 7\u001b[0;31m \u001b[0;32massert\u001b[0m \u001b[0mlst\u001b[0m\u001b[0;34m.\u001b[0m\u001b[0mget\u001b[0m\u001b[0;34m(\u001b[0m\u001b[0;36m1\u001b[0m\u001b[0;34m)\u001b[0m \u001b[0;34m==\u001b[0m \u001b[0;34m'b'\u001b[0m\u001b[0;34m\u001b[0m\u001b[0;34m\u001b[0m\u001b[0m\n\u001b[0m",
      "\u001b[0;31mAssertionError\u001b[0m: "
     ]
    }
   ],
   "source": [
    "lst = XorList('a')\n",
    "print(lst)\n",
    "lst.add('b')\n",
    "print(lst)\n",
    "lst.add('c')\n",
    "print(lst)\n",
    "assert lst.get(1) == 'b'"
   ]
  },
  {
   "cell_type": "code",
   "execution_count": 3,
   "metadata": {},
   "outputs": [
    {
     "data": {
      "text/plain": [
       "0"
      ]
     },
     "execution_count": 3,
     "metadata": {},
     "output_type": "execute_result"
    }
   ],
   "source": [
    "2 ^ 2"
   ]
  },
  {
   "cell_type": "code",
   "execution_count": 4,
   "metadata": {},
   "outputs": [
    {
     "data": {
      "text/plain": [
       "7"
      ]
     },
     "execution_count": 4,
     "metadata": {},
     "output_type": "execute_result"
    }
   ],
   "source": [
    "4 ^ 2 ^ 1"
   ]
  },
  {
   "cell_type": "code",
   "execution_count": null,
   "metadata": {},
   "outputs": [],
   "source": []
  }
 ],
 "metadata": {
  "kernelspec": {
   "display_name": "Python 3",
   "language": "python",
   "name": "python3"
  },
  "language_info": {
   "codemirror_mode": {
    "name": "ipython",
    "version": 3
   },
   "file_extension": ".py",
   "mimetype": "text/x-python",
   "name": "python",
   "nbconvert_exporter": "python",
   "pygments_lexer": "ipython3",
   "version": "3.6.8"
  }
 },
 "nbformat": 4,
 "nbformat_minor": 2
}
