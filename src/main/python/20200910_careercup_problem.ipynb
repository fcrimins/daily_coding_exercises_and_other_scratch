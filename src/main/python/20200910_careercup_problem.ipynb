{
 "cells": [
  {
   "cell_type": "markdown",
   "metadata": {},
   "source": [
    "https://www.careercup.com/page?pid=two-sigma-interview-questions\n",
    "    \n",
    "Regex matching algorithms\n",
    "You will be given a string and a pattern string consisting of only `*`, `?`, and small letters. You have to return tree or false based upon the comparisons.\n",
    "`?` repersent one char.\n",
    "`*` means zero or n number of char for any positive n.\n",
    "\n",
    "Examples<br>\n",
    "`abc, a?c : true` <br>\n",
    "`abc, a*?c : true` <br>\n",
    "`abc, * : true` <br>\n",
    "`abc, ?c : false` <br>"
   ]
  },
  {
   "cell_type": "code",
   "execution_count": 1,
   "metadata": {},
   "outputs": [],
   "source": [
    "from typing import List"
   ]
  },
  {
   "cell_type": "code",
   "execution_count": 2,
   "metadata": {},
   "outputs": [],
   "source": [
    "EXACTLY_ONE = '?'\n",
    "ZERO_OR_MORE = '*'\n",
    "\n",
    "def matches(string: str,  regex: str, indent: str='') -> bool:\n",
    "    print(f'{indent}matches({string}, {regex})')\n",
    "    \n",
    "    i: int = 0  # current string index\n",
    "    j: int = 0  # current regex index\n",
    "    while i < len(string) and j < len(regex):\n",
    "        \n",
    "        if regex[j] in (EXACTLY_ONE, string[i]):\n",
    "            print(f'{indent}  {regex[j]} in ({EXACTLY_ONE}, {string[i]})')\n",
    "            i += 1\n",
    "            j += 1\n",
    "                        \n",
    "        elif regex[j] == ZERO_OR_MORE:\n",
    "                        \n",
    "            # recursively look for remainders of `string` (including empty string) that match `regex`\n",
    "            # without the its leading star (how dreamy!), starting at the current string[i:]\n",
    "            regex_without_leading_star = regex[j+1:]\n",
    "            for k in range(i, len(string)+1):\n",
    "                string_remainder = string[k:]\n",
    "                if (matches(string_remainder, regex_without_leading_star, indent=indent + '  ')):\n",
    "                    return True\n",
    "            return False\n",
    "                        \n",
    "        else:\n",
    "            return False\n",
    "        \n",
    "    return i == len(string) and j == len(regex)"
   ]
  },
  {
   "cell_type": "code",
   "execution_count": 28,
   "metadata": {},
   "outputs": [
    {
     "name": "stdout",
     "output_type": "stream",
     "text": [
      "matches(abc, a?c)\n",
      "  a in (?, a)\n",
      "  ? in (?, b)\n",
      "  c in (?, c)\n",
      "matches(abc, a*?c)\n",
      "  a in (?, a)\n",
      "  matches(bc, ?c)\n",
      "    ? in (?, b)\n",
      "    c in (?, c)\n",
      "matches(abc, *)\n",
      "  matches(abc, )\n",
      "  matches(bc, )\n",
      "  matches(c, )\n",
      "  matches(, )\n",
      "matches(abc, ?c)\n",
      "  ? in (?, a)\n"
     ]
    }
   ],
   "source": [
    "assert(matches('abc', 'a?c') == True)\n",
    "assert(matches('abc', 'a*?c') == True)\n",
    "assert(matches('abc', '*') == True)\n",
    "assert(matches('abc', '?c') == False)"
   ]
  },
  {
   "cell_type": "code",
   "execution_count": 4,
   "metadata": {},
   "outputs": [
    {
     "name": "stdout",
     "output_type": "stream",
     "text": [
      "matches(bc, a*?c)\n"
     ]
    }
   ],
   "source": [
    "# Q: does * apply to previous char, like a regex, or does it mean \"wildcard\" like glob?\n",
    "# A: it's probably the latter given the glob behavior of ?\n",
    "# which means this should evaluate to False\n",
    "assert(matches('bc', 'a*?c') == False)"
   ]
  },
  {
   "cell_type": "code",
   "execution_count": null,
   "metadata": {},
   "outputs": [],
   "source": []
  }
 ],
 "metadata": {
  "kernelspec": {
   "display_name": "Python 3",
   "language": "python",
   "name": "python3"
  },
  "language_info": {
   "codemirror_mode": {
    "name": "ipython",
    "version": 3
   },
   "file_extension": ".py",
   "mimetype": "text/x-python",
   "name": "python",
   "nbconvert_exporter": "python",
   "pygments_lexer": "ipython3",
   "version": "3.6.8"
  }
 },
 "nbformat": 4,
 "nbformat_minor": 2
}
