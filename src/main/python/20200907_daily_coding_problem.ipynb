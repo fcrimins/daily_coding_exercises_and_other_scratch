{
 "cells": [
  {
   "cell_type": "markdown",
   "metadata": {},
   "source": [
    "This problem was asked by Uber.\n",
    "\n",
    "A rule looks like this:\n",
    "\n",
    "```\n",
    "A NE B\n",
    "```\n",
    "\n",
    "This means this means point A is located northeast of point B.\n",
    "\n",
    "```\n",
    "A SW C\n",
    "```\n",
    "\n",
    "means that point A is southwest of C.\n",
    "\n",
    "Given a list of rules, check if the sum of the rules validate. For example:\n",
    "\n",
    "```\n",
    "A N B\n",
    "B NE C\n",
    "C N A\n",
    "```\n",
    "\n",
    "does not validate, since A cannot be both north and south of C.\n",
    "\n",
    "```\n",
    "A NW B\n",
    "A N B\n",
    "```\n",
    "\n",
    "is considered valid."
   ]
  },
  {
   "cell_type": "code",
   "execution_count": 2,
   "metadata": {},
   "outputs": [],
   "source": [
    "from typing import List"
   ]
  },
  {
   "cell_type": "code",
   "execution_count": 11,
   "metadata": {},
   "outputs": [],
   "source": [
    "# mapping of nodes to lists of lambda functions representing their relationships to other nodes\n",
    "node_relationships = {}\n",
    "\n",
    "# class Rule:\n",
    "#     def __init__(self, rule_str: str):\n",
    "#         self.relationships = []\n",
    "\n",
    "relationship_lambdas = {'N': lambda x0, y0, x1, y1: (x0 == x1 and y0 > y1),\n",
    "                        'S': lambda x0, y0, x1, y1: (x0 == x1 and y0 < y1),\n",
    "                        'E': lambda x0, y0, x1, y1: (x0 > x1 and y0 == y1),\n",
    "                        'W': lambda x0, y0, x1, y1: (x0 < x1 and y0 == y1),\n",
    "                        'NE': lambda x0, y0, x1, y1: (x0 - x1 == y0 - y1 and x0 > x1),\n",
    "                        'SW': lambda x0, y0, x1, y1: (x0 - x1 == y0 - y1 and x0 < x1),\n",
    "                        'SE': lambda x0, y0, x1, y1: (x0 - x1 == y1 - y0 and x0 > x1),\n",
    "                        'NW': lambda x0, y0, x1, y1: (x0 - x1 == y1 - y0 and x0 < x1)}\n",
    "\n",
    "opposites = {'N':'S', 'S':'N', 'E':'W', 'W':'E', 'NE':'SW', 'SW':'NE', 'NW':'SE', 'SE':'NW'}\n",
    "    \n",
    "def parse_rule(rule: str) -> bool:\n",
    "    nodeA, rel, nodeB = rule.split(' ')\n",
    "    \n",
    "    if nodeA not in node_relationships:\n",
    "        node_relationships[nodeA] = {}\n",
    "    if nodeB not in node_relationships:\n",
    "        node_relationships[nodeB] = {}\n",
    "        \n",
    "    if nodeB not in node_relationships[nodeA]:\n",
    "        node_relationships[nodeA][nodeB] = rel\n",
    "        node_relationships[nodeB][nodeA] = opposites[rel]\n",
    "        \n",
    "    return node_relationships[nodeA][nodeB] == rel\n",
    "       \n",
    "\n",
    "def validate_rules(rules: List[str]) -> bool:\n",
    "    pass\n",
    "        "
   ]
  },
  {
   "cell_type": "code",
   "execution_count": 12,
   "metadata": {},
   "outputs": [
    {
     "ename": "AssertionError",
     "evalue": "",
     "output_type": "error",
     "traceback": [
      "\u001b[0;31m---------------------------------------------------------------------------\u001b[0m",
      "\u001b[0;31mAssertionError\u001b[0m                            Traceback (most recent call last)",
      "\u001b[0;32m<ipython-input-12-48aace5ab9b5>\u001b[0m in \u001b[0;36m<module>\u001b[0;34m\u001b[0m\n\u001b[0;32m----> 1\u001b[0;31m \u001b[0;32massert\u001b[0m\u001b[0;34m(\u001b[0m\u001b[0mvalidate_rules\u001b[0m\u001b[0;34m(\u001b[0m\u001b[0;34m[\u001b[0m\u001b[0;34m'A N B'\u001b[0m\u001b[0;34m,\u001b[0m \u001b[0;34m'B NE C'\u001b[0m\u001b[0;34m,\u001b[0m \u001b[0;34m'C N A'\u001b[0m\u001b[0;34m]\u001b[0m\u001b[0;34m)\u001b[0m \u001b[0;34m==\u001b[0m \u001b[0;32mFalse\u001b[0m\u001b[0;34m)\u001b[0m\u001b[0;34m\u001b[0m\u001b[0;34m\u001b[0m\u001b[0m\n\u001b[0m",
      "\u001b[0;31mAssertionError\u001b[0m: "
     ]
    }
   ],
   "source": [
    "assert(validate_rules(['A N B', 'B NE C', 'C N A']) == False)"
   ]
  },
  {
   "cell_type": "code",
   "execution_count": 6,
   "metadata": {},
   "outputs": [
    {
     "ename": "AssertionError",
     "evalue": "",
     "output_type": "error",
     "traceback": [
      "\u001b[0;31m---------------------------------------------------------------------------\u001b[0m",
      "\u001b[0;31mAssertionError\u001b[0m                            Traceback (most recent call last)",
      "\u001b[0;32m<ipython-input-6-2463e03a0550>\u001b[0m in \u001b[0;36m<module>\u001b[0;34m\u001b[0m\n\u001b[0;32m----> 1\u001b[0;31m \u001b[0;32massert\u001b[0m\u001b[0;34m(\u001b[0m\u001b[0mvalidate_rules\u001b[0m\u001b[0;34m(\u001b[0m\u001b[0;34m[\u001b[0m\u001b[0;34m'A NW B'\u001b[0m\u001b[0;34m,\u001b[0m \u001b[0;34m'A N B'\u001b[0m\u001b[0;34m]\u001b[0m\u001b[0;34m)\u001b[0m \u001b[0;34m==\u001b[0m \u001b[0;32mTrue\u001b[0m\u001b[0;34m)\u001b[0m\u001b[0;34m\u001b[0m\u001b[0;34m\u001b[0m\u001b[0m\n\u001b[0m",
      "\u001b[0;31mAssertionError\u001b[0m: "
     ]
    }
   ],
   "source": [
    "assert(validate_rules(['A NW B', 'A N B']) == True)"
   ]
  },
  {
   "cell_type": "markdown",
   "metadata": {},
   "source": [
    "From here https://medium.com/algorithm-and-datastructure/direction-and-position-rule-verification-445d47641514\n",
    "\n",
    "> So, we can see that two rules invalidate each other if they relate the same pair of points and are in opposite directions. However, two rules do not invalidate each other if they are in the same or direction or are orthogonal to each other:\n",
    "\n",
    "> `A N B`<br>\n",
    "> `A E B`\n",
    "\n",
    "So the way I have it implemented above is wrong.  `A N B` doesn't mean **strictly** north of B."
   ]
  },
  {
   "cell_type": "markdown",
   "metadata": {},
   "source": [
    "And this:\n",
    "\n",
    "> To add diagonal relationships, we simply parse the two directions into single directions, and treat them as two separate rules."
   ]
  },
  {
   "cell_type": "markdown",
   "metadata": {},
   "source": [
    "```\n",
    "class Solution {\n",
    "  public static void main(String[] args) {\n",
    "    test1();\n",
    "    test2();\n",
    "    test3();\n",
    "  }\n",
    "  private static void test1() {\n",
    "    String[] rules = {\"A N B\",\n",
    "                      \"C SE B\",\n",
    "                      \"C N A\"};\n",
    "    System.out.println(validate(rules));\n",
    "  }\n",
    "  private static void test2() {\n",
    "    String[] rules = {\"A NW B\",\n",
    "                      \"A N B\"};\n",
    "    System.out.println(validate(rules));\n",
    "  }\n",
    "  private static void test3() {\n",
    "    String[] rules = {\"A N B\",\n",
    "                      \"C N B\"};\n",
    "    System.out.println(validate(rules));\n",
    "  }\n",
    "  static class Node {\n",
    "    List<Set<Node>> edges = new ArrayList<>();\n",
    "    char val;\n",
    "    public Node(char val) {\n",
    "      this.val = val;\n",
    "      for (int i = 0; i < 4; i++)\n",
    "        edges.add(new HashSet<>());\n",
    "    }\n",
    "  }\n",
    "  public static final int N = 0;\n",
    "  public static final int E = 1;\n",
    "  public static final int S = 2;\n",
    "  public static final int W = 3;\n",
    "  public static final int[] DIRS = {N, E, S, W};\n",
    "  public static final Map<Character, Integer> charToDir = new HashMap<>();;\n",
    "  static {\n",
    "    charToDir.put('N', N);\n",
    "    charToDir.put('E', E);\n",
    "    charToDir.put('S', S);\n",
    "    charToDir.put('W', W);\n",
    "  }\n",
    "  public static boolean validate(String[] rules) {\n",
    "    Map<Character, Node> map = new HashMap<>();\n",
    "    for (String line : rules) {\n",
    "      String[] rule = line.split(\" \");\n",
    "      System.out.println(\"Rule \" + rule[0] + \" \" + rule[1] + \" \" + rule[2]);\n",
    "      char fromVal = rule[2].charAt(0);\n",
    "      char toVal = rule[0].charAt(0);\n",
    "      if (!map.containsKey(fromVal)) {\n",
    "        Node n = new Node(fromVal);\n",
    "        map.put(fromVal, n);\n",
    "      }\n",
    "      if (!map.containsKey(toVal)) {\n",
    "        Node n = new Node(toVal);\n",
    "        map.put(toVal, n);\n",
    "      }\n",
    "      Node from = map.get(fromVal);\n",
    "      Node to = map.get(toVal);\n",
    "      /* Decompose diagonal (two-char) directions to single directions */\n",
    "      for (char dirChar : rule[1].toCharArray()) {\n",
    "        int dir = charToDir.get(dirChar);\n",
    "        if (!isValid(map, from, to, dir))\n",
    "          return false;\n",
    "        addEdges(map, from, to, dir);\n",
    "        System.out.println(from.edges.get(dir));\n",
    "         System.out.println(to.edges.get(opposite(dir)));\n",
    "      }\n",
    "    }\n",
    "    return true;\n",
    "  }\n",
    "  private static int opposite(int dir) {\n",
    "    return (dir + 2) % 4;\n",
    "  }\n",
    "  private static boolean isValid(Map<Character, Node> map,\n",
    "                                 Node from,\n",
    "                                 Node to,\n",
    "                                 int newDir) {\n",
    "    int oppositeDir = opposite(newDir);\n",
    "    if (from.edges.get(oppositeDir).contains(to))\n",
    "          return false;\n",
    "    return true;\n",
    "  }\n",
    "  private static void addEdges(Map<Character, Node> map,\n",
    "                                  Node from,\n",
    "                                  Node to,\n",
    "                                  int newDir) {\n",
    "    /* Get the direct opposite direction, e.g. S from N */\n",
    "    int oppositeDir = opposite(newDir);\n",
    "    /* Add the immediate edge between the nodes, using bi-directional edges. */\n",
    "    from.edges.get(newDir).add(to);\n",
    "    to.edges.get(oppositeDir).add(from);\n",
    "    for (int dir : DIRS) {\n",
    "      /* Relationships in the same direction are ambiguous.\n",
    "         For example, if A is north of B, and we are adding \n",
    "         C north of B, we cannot say C is north of A. */\n",
    "      if (dir == newDir)\n",
    "        continue;\n",
    "      for (Node neighbor : from.edges.get(dir)) {\n",
    "        /* No need to add self-edges */\n",
    "        if (neighbor == to)\n",
    "          continue;\n",
    "        /* Add bi-directional edges */\n",
    "        neighbor.edges.get(newDir).add(to);\n",
    "        to.edges.get(oppositeDir).add(neighbor);\n",
    "      }\n",
    "    }\n",
    "  }\n",
    "}\n",
    "```"
   ]
  },
  {
   "cell_type": "markdown",
   "metadata": {},
   "source": [
    "> Relationships in the same direction are ambiguous.\n",
    "         For example, if A is north of B, and we are adding \n",
    "         C north of B, we cannot say C is north of A.\n",
    "\n",
    "The key here is that all of the transitivity between nodes is built up at each step, so all of the pairwise relationships between nodes are always represented in the graph."
   ]
  },
  {
   "cell_type": "code",
   "execution_count": null,
   "metadata": {},
   "outputs": [],
   "source": []
  }
 ],
 "metadata": {
  "kernelspec": {
   "display_name": "Python 3",
   "language": "python",
   "name": "python3"
  },
  "language_info": {
   "codemirror_mode": {
    "name": "ipython",
    "version": 3
   },
   "file_extension": ".py",
   "mimetype": "text/x-python",
   "name": "python",
   "nbconvert_exporter": "python",
   "pygments_lexer": "ipython3",
   "version": "3.6.8"
  }
 },
 "nbformat": 4,
 "nbformat_minor": 4
}
