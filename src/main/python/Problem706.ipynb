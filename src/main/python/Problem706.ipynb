{
 "cells": [
  {
   "cell_type": "code",
   "execution_count": 1,
   "metadata": {},
   "outputs": [],
   "source": [
    "# imports\n",
    "#from math import comb  # not until Python 3.8\n",
    "import operator as op\n",
    "from functools import reduce\n",
    "from collections import defaultdict\n",
    "\n",
    "import logging\n",
    "logging.info(\"init\")\n",
    "logFormatter = logging.Formatter(\"%(asctime)s %(levelname)s - %(message)s\")\n",
    "#logFormatter = logging.Formatter(\"%(asctime)s %(levelname)s [%(filename)s@%(funcName)s@%(lineno)s] - %(message)s\")\n",
    "rootLogger = logging.getLogger()\n",
    "rootLogger.handlers[0].setFormatter(logFormatter) \n",
    "rootLogger.setLevel(logging.DEBUG)\n",
    "debug = rootLogger.isEnabledFor(logging.DEBUG)"
   ]
  },
  {
   "cell_type": "code",
   "execution_count": null,
   "metadata": {},
   "outputs": [],
   "source": [
    "# 1. foreach d-digit number between 0 (or 1...d?) and n\n",
    "# 2.   compute all substrings, length 1, 2, 3... d\n",
    "# 3.   filter to those divisible by 3 (f)\n",
    "# 4.   count, and filter to counts divisible by 3 (F)\n",
    "\n",
    "# F(2)=30  and F(6)=290898\n",
    "# and F(1) = 3 (or ~ 1/3 of the 1-digit numbers) so this problem probably involves determining how many are NOT 3-like\n",
    "#  and subtracting those\n",
    "\n",
    "# counting possible substrings, and how often they occur\n",
    "# e.g. for 2-digit numbers, each 2-digit substring occurs once (90 times? 10 to 99, or 100? 00 to 99?)\n",
    "#        and each 1-digit substring occurs 11 times (10x in the 10s position and once in the 1s postion?)"
   ]
  }
 ],
 "metadata": {
  "kernelspec": {
   "display_name": "Python 3",
   "language": "python",
   "name": "python3"
  },
  "language_info": {
   "codemirror_mode": {
    "name": "ipython",
    "version": 3
   },
   "file_extension": ".py",
   "mimetype": "text/x-python",
   "name": "python",
   "nbconvert_exporter": "python",
   "pygments_lexer": "ipython3",
   "version": "3.6.8"
  }
 },
 "nbformat": 4,
 "nbformat_minor": 2
}
