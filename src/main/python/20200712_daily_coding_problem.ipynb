{
 "cells": [
  {
   "cell_type": "markdown",
   "metadata": {},
   "source": [
    "This problem was asked by Facebook.\n",
    "\n",
    "You are given an array of non-negative integers that represents a two-dimensional elevation map where each element is unit-width wall and the integer is the height. Suppose it will rain and all spots between two walls get filled up.\n",
    "\n",
    "Compute how many units of water remain trapped on the map in O(N) time and O(1) space.\n",
    "\n",
    "For example, given the input [2, 1, 2], we can hold 1 unit of water in the middle.\n",
    "\n",
    "Given the input [3, 0, 1, 3, 0, 5], we can hold 3 units in the first index, 2 in the second, and 3 in the fourth index (we cannot hold 5 since it would run off to the left), so we can trap 8 units of water."
   ]
  },
  {
   "cell_type": "code",
   "execution_count": 1,
   "metadata": {},
   "outputs": [],
   "source": [
    "from functools import reduce\n",
    "from collections import namedtuple"
   ]
  },
  {
   "cell_type": "code",
   "execution_count": 2,
   "metadata": {},
   "outputs": [],
   "source": [
    "def f(topography: list) -> int:\n",
    "    \n",
    "    print(f'\\nTOPOGRAPHY topography={topography}')\n",
    "    \n",
    "    prevmax = 0  # previous highest peak (anything over this cannot be banked)\n",
    "    imax: int = -1\n",
    "    waterlevel: float = 0  # just the \"last highest\" peak (so don't we need to also store all the peaks in between?)\n",
    "    banked = 0\n",
    "    \n",
    "    for (i, wallheight) in enumerate(topography):\n",
    "        if imax == -1:  # initialization (i == 0)\n",
    "            prevmax = wallheight\n",
    "            imax = i\n",
    "            waterlevel = wallheight\n",
    "            print(f'INIT prevmax={prevmax}, imax={imax}, wallheight={wallheight}')\n",
    "            \n",
    "        elif wallheight == waterlevel:\n",
    "            print(f'wallheight == waterlevel ({wallheight})')\n",
    "        \n",
    "        elif wallheight < waterlevel:  # adjust waterlevel down by a bit so that future higher walls will bank properly\n",
    "            print(f'wallheight < waterlevel ({wallheight} < {waterlevel})')\n",
    "            waterlevel -= (waterlevel - wallheight) / (i - imax)  # lower the pretend water level by a fraction\n",
    "            print(f'    new waterlevel={waterlevel}')             #   in case it goes back up again\n",
    "            \n",
    "        elif wallheight > waterlevel:\n",
    "            print(f'wallheight > waterlevel ({wallheight} > {waterlevel})')\n",
    "            new_waterlevel = min(prevmax, wallheight)\n",
    "            banked += (new_waterlevel - waterlevel) * (i - imax - 1)\n",
    "            waterlevel = new_waterlevel\n",
    "            print(f'    banked={banked}')\n",
    "            print(f'    new waterlevel={waterlevel}')\n",
    "    \n",
    "    return banked"
   ]
  },
  {
   "cell_type": "code",
   "execution_count": 3,
   "metadata": {},
   "outputs": [
    {
     "name": "stdout",
     "output_type": "stream",
     "text": [
      "\n",
      "TOPOGRAPHY topography=[2, 1, 2]\n",
      "INIT prevmax=2, imax=0, wallheight=2\n",
      "wallheight < waterlevel (1 < 2)\n",
      "    new waterlevel=1.0\n",
      "wallheight > waterlevel (2 > 1.0)\n",
      "    banked=1.0\n",
      "    new waterlevel=2\n",
      "\n",
      "TOPOGRAPHY topography=[3, 0, 1, 3, 0, 5]\n",
      "INIT prevmax=3, imax=0, wallheight=3\n",
      "wallheight < waterlevel (0 < 3)\n",
      "    new waterlevel=0.0\n",
      "wallheight > waterlevel (1 > 0.0)\n",
      "    banked=1.0\n",
      "    new waterlevel=1\n",
      "wallheight > waterlevel (3 > 1)\n",
      "    banked=5.0\n",
      "    new waterlevel=3\n",
      "wallheight < waterlevel (0 < 3)\n",
      "    new waterlevel=2.25\n",
      "wallheight > waterlevel (5 > 2.25)\n",
      "    banked=8.0\n",
      "    new waterlevel=3\n",
      "\n",
      "TOPOGRAPHY topography=[3, 0, 1, 2, 0, 5]\n",
      "INIT prevmax=3, imax=0, wallheight=3\n",
      "wallheight < waterlevel (0 < 3)\n",
      "    new waterlevel=0.0\n",
      "wallheight > waterlevel (1 > 0.0)\n",
      "    banked=1.0\n",
      "    new waterlevel=1\n",
      "wallheight > waterlevel (2 > 1)\n",
      "    banked=3.0\n",
      "    new waterlevel=2\n",
      "wallheight < waterlevel (0 < 2)\n",
      "    new waterlevel=1.5\n",
      "wallheight > waterlevel (5 > 1.5)\n",
      "    banked=9.0\n",
      "    new waterlevel=3\n"
     ]
    }
   ],
   "source": [
    "assert(f([2, 1, 2]) == 1)\n",
    "assert(f([3, 0, 1, 3, 0, 5]) == 8)\n",
    "assert(f([3, 0, 1, 2, 0, 5]) == 9)"
   ]
  }
 ],
 "metadata": {
  "kernelspec": {
   "display_name": "Python 3",
   "language": "python",
   "name": "python3"
  },
  "language_info": {
   "codemirror_mode": {
    "name": "ipython",
    "version": 3
   },
   "file_extension": ".py",
   "mimetype": "text/x-python",
   "name": "python",
   "nbconvert_exporter": "python",
   "pygments_lexer": "ipython3",
   "version": "3.6.8"
  }
 },
 "nbformat": 4,
 "nbformat_minor": 2
}
