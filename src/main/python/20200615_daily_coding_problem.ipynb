{
 "cells": [
  {
   "cell_type": "markdown",
   "metadata": {},
   "source": [
    "Daily Coding Problem <founders@dailycodingproblem.com>\n",
    "11:34 AM (1 hour ago)\n",
    "to me\n",
    "\n",
    "> Good morning! Here's your coding interview problem for today.\n",
    ">\n",
    "> This problem was asked by Google.\n",
    ">\n",
    "> Given the root to a binary tree, implement serialize(root), which serializes the tree into a string, and deserialize(s), which deserializes the string back into the tree.\n",
    ">\n",
    "> For example, given the following Node class\n",
    ">\n",
    "> ```\n",
    "> class Node:\n",
    ">     def __init__(self, val, left=None, right=None):\n",
    ">         self.val = val\n",
    ">         self.left = left\n",
    ">         self.right = right\n",
    "> ```\n",
    ">\n",
    "> The following test should pass:\n",
    ">\n",
    "> ```\n",
    "> node = Node('root', Node('left', Node('left.left')), Node('right'))\n",
    "> assert deserialize(serialize(node)).left.left.val == 'left.left'\n",
    "> ```"
   ]
  },
  {
   "cell_type": "code",
   "execution_count": 2,
   "metadata": {},
   "outputs": [],
   "source": [
    "class Node:\n",
    "    def __init__(self, val, left=None, right=None):\n",
    "        self.val = val\n",
    "        self.left = left\n",
    "        self.right = right"
   ]
  },
  {
   "cell_type": "code",
   "execution_count": 25,
   "metadata": {},
   "outputs": [],
   "source": [
    "def serialize(root: Node) -> str:\n",
    "    print(f'serialize({root})')\n",
    "    left = '()' if root.left is None else serialize(root.left)\n",
    "    right = '()' if root.right is None else serialize(root.right)\n",
    "    s = f'({root.val}{left}{right})'\n",
    "    print(f'  s = {s}')\n",
    "    return s"
   ]
  },
  {
   "cell_type": "code",
   "execution_count": 26,
   "metadata": {},
   "outputs": [],
   "source": [
    "def deserialize(s: str) -> Node:\n",
    "    print(f'deserialize({s})')\n",
    "    assert(s[0] == '(' and s[-1] == ')')\n",
    "    if s == '()':\n",
    "        return None\n",
    "    i_start = 0\n",
    "    is_open = False\n",
    "    val = None\n",
    "    left = None\n",
    "    right = None\n",
    "    n_open = 0\n",
    "    for i in range(1, len(s) - 1):\n",
    "        if val is None and s[i] == '(':\n",
    "            val = s[1:i]  # TODO: handle difference between empty string and val starting with a '('\n",
    "            left = i\n",
    "            n_open = 1\n",
    "        elif s[i] == '(':\n",
    "            n_open += 1\n",
    "        elif s[i] == ')':\n",
    "            n_open -= 1\n",
    "            if n_open == 0:\n",
    "                if right == None:\n",
    "                    left = (left, i)\n",
    "                    right = i + 1\n",
    "                else:\n",
    "                    right = (right, i)\n",
    "    print(f'  val = {val}')\n",
    "    print(f'  left = {left}')\n",
    "    print(f'  right = {right}')\n",
    "    return Node(val, left=deserialize(s[left[0] : left[1]+1]), right=deserialize(s[right[0] : right[1]+1]))"
   ]
  },
  {
   "cell_type": "code",
   "execution_count": 27,
   "metadata": {},
   "outputs": [
    {
     "name": "stdout",
     "output_type": "stream",
     "text": [
      "serialize(<__main__.Node object at 0x7fd2385e4630>)\n",
      "serialize(<__main__.Node object at 0x7fd2385e45f8>)\n",
      "serialize(<__main__.Node object at 0x7fd2385e4748>)\n",
      "  s = (left.left()())\n",
      "  s = (left(left.left()())())\n",
      "serialize(<__main__.Node object at 0x7fd2385e4b70>)\n",
      "  s = (right()())\n",
      "  s = (root(left(left.left()())())(right()()))\n",
      "deserialize((root(left(left.left()())())(right()())))\n",
      "  val = root\n",
      "  left = (5, 27)\n",
      "  right = (28, 38)\n",
      "deserialize((left(left.left()())()))\n",
      "  val = left\n",
      "  left = (5, 19)\n",
      "  right = (20, 21)\n",
      "deserialize((left.left()()))\n",
      "  val = left.left\n",
      "  left = (10, 11)\n",
      "  right = (12, 13)\n",
      "deserialize(())\n",
      "deserialize(())\n",
      "deserialize(())\n",
      "deserialize((right()()))\n",
      "  val = right\n",
      "  left = (6, 7)\n",
      "  right = (8, 9)\n",
      "deserialize(())\n",
      "deserialize(())\n"
     ]
    }
   ],
   "source": [
    "node = Node('root', Node('left', Node('left.left')), Node('right'))\n",
    "assert deserialize(serialize(node)).left.left.val == 'left.left'"
   ]
  },
  {
   "cell_type": "code",
   "execution_count": null,
   "metadata": {},
   "outputs": [],
   "source": []
  },
  {
   "cell_type": "code",
   "execution_count": null,
   "metadata": {},
   "outputs": [],
   "source": []
  }
 ],
 "metadata": {
  "kernelspec": {
   "display_name": "Python 3",
   "language": "python",
   "name": "python3"
  },
  "language_info": {
   "codemirror_mode": {
    "name": "ipython",
    "version": 3
   },
   "file_extension": ".py",
   "mimetype": "text/x-python",
   "name": "python",
   "nbconvert_exporter": "python",
   "pygments_lexer": "ipython3",
   "version": "3.6.8"
  }
 },
 "nbformat": 4,
 "nbformat_minor": 2
}
