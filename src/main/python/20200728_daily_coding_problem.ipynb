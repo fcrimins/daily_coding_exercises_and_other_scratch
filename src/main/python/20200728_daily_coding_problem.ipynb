{
 "cells": [
  {
   "cell_type": "markdown",
   "metadata": {},
   "source": [
    "This problem was asked by Snapchat.\n",
    "\n",
    "Given a list of possibly overlapping intervals, return a new list of intervals where all overlapping intervals have been merged.\n",
    "\n",
    "The input list is not necessarily ordered in any way.\n",
    "\n",
    "For example, given [(1, 3), (5, 8), (4, 10), (20, 25)], you should return [(1, 3), (4, 10), (20, 25)]."
   ]
  },
  {
   "cell_type": "code",
   "execution_count": 18,
   "metadata": {},
   "outputs": [],
   "source": [
    "from typing import List, Tuple\n",
    "from functools import reduce"
   ]
  },
  {
   "cell_type": "code",
   "execution_count": 37,
   "metadata": {},
   "outputs": [],
   "source": [
    "def merge_intervals(intervals: List[Tuple]) -> List[Tuple]:\n",
    "    if not intervals:\n",
    "        return intervals\n",
    "    intervals.sort()\n",
    "    \n",
    "    def reducer(acc: List[Tuple], e: Tuple) -> List[Tuple]:\n",
    "        print(f'reducer({acc}, {e})')\n",
    "        if e[0] < acc[-1][1]:\n",
    "            new_e = (acc[-1][0], max(acc[-1][1], e[1]))\n",
    "            print(f'replacing last element {acc[-1]} with {new_e}')\n",
    "            acc[-1] = new_e\n",
    "        else:\n",
    "            print(f'appending after last element {acc[-1]}: {e}')\n",
    "            acc += [e]\n",
    "        return acc\n",
    "    \n",
    "    return reduce(reducer, intervals, intervals[:1])"
   ]
  },
  {
   "cell_type": "code",
   "execution_count": 38,
   "metadata": {},
   "outputs": [
    {
     "name": "stdout",
     "output_type": "stream",
     "text": [
      "reducer([(1, 3)], (1, 3))\n",
      "replacing last element (1, 3) with (1, 3)\n",
      "reducer([(1, 3)], (4, 10))\n",
      "appending after last element (1, 3): (4, 10)\n",
      "reducer([(1, 3), (4, 10)], (5, 8))\n",
      "replacing last element (4, 10) with (4, 10)\n",
      "reducer([(1, 3), (4, 10)], (20, 25))\n",
      "appending after last element (4, 10): (20, 25)\n"
     ]
    }
   ],
   "source": [
    "assert(merge_intervals([(1, 3), (5, 8), (4, 10), (20, 25)]) == [(1, 3), (4, 10), (20, 25)])"
   ]
  },
  {
   "cell_type": "code",
   "execution_count": 39,
   "metadata": {},
   "outputs": [
    {
     "name": "stdout",
     "output_type": "stream",
     "text": [
      "reducer([(1, 3)], (1, 3))\n",
      "replacing last element (1, 3) with (1, 3)\n",
      "reducer([(1, 3)], (4, 10))\n",
      "appending after last element (1, 3): (4, 10)\n",
      "reducer([(1, 3), (4, 10)], (5, 8))\n",
      "replacing last element (4, 10) with (4, 10)\n",
      "reducer([(1, 3), (4, 10)], (20, 25))\n",
      "appending after last element (4, 10): (20, 25)\n"
     ]
    },
    {
     "data": {
      "text/plain": [
       "[(1, 3), (4, 10), (20, 25)]"
      ]
     },
     "execution_count": 39,
     "metadata": {},
     "output_type": "execute_result"
    }
   ],
   "source": [
    "merge_intervals([(1, 3), (5, 8), (4, 10), (20, 25)])"
   ]
  },
  {
   "cell_type": "code",
   "execution_count": null,
   "metadata": {},
   "outputs": [],
   "source": []
  }
 ],
 "metadata": {
  "kernelspec": {
   "display_name": "Python 3",
   "language": "python",
   "name": "python3"
  },
  "language_info": {
   "codemirror_mode": {
    "name": "ipython",
    "version": 3
   },
   "file_extension": ".py",
   "mimetype": "text/x-python",
   "name": "python",
   "nbconvert_exporter": "python",
   "pygments_lexer": "ipython3",
   "version": "3.6.8"
  }
 },
 "nbformat": 4,
 "nbformat_minor": 4
}
