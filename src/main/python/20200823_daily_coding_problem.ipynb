{
 "cells": [
  {
   "cell_type": "markdown",
   "metadata": {},
   "source": [
    "This problem was asked by Google.\n",
    "\n",
    "In a directed graph, each node is assigned an uppercase letter. We define a path's value as the number of most frequently-occurring letter along that path. For example, if a path in the graph goes through \"ABACA\", the value of the path is 3, since there are 3 occurrences of 'A' on the path.\n",
    "\n",
    "Given a graph with n nodes and m directed edges, return the largest value path of the graph. If the largest value is infinite, then return null.\n",
    "\n",
    "The graph is represented with a string and an edge list. The i-th character represents the uppercase letter of the i-th node. Each tuple in the edge list (i, j) means there is a directed edge from the i-th node to the j-th node. Self-edges are possible, as well as multi-edges.\n",
    "\n",
    "For example, the following input graph:\n",
    "\n",
    "```\n",
    "ABACA\n",
    "```\n",
    "```\n",
    "[(0, 1),\n",
    " (0, 2),\n",
    " (2, 3),\n",
    " (3, 4)]\n",
    "```\n",
    "\n",
    "Would have maximum value 3 using the path of vertices [0, 2, 3, 4], (A, A, C, A).\n",
    "\n",
    "The following input graph:\n",
    "\n",
    "```\n",
    "A\n",
    "```\n",
    "```\n",
    "[(0, 0)]\n",
    "```\n",
    "\n",
    "Should return null, since we have an infinite loop."
   ]
  },
  {
   "cell_type": "code",
   "execution_count": 27,
   "metadata": {},
   "outputs": [],
   "source": [
    "from typing import List, Tuple, Dict\n",
    "from functools import reduce"
   ]
  },
  {
   "cell_type": "code",
   "execution_count": 28,
   "metadata": {},
   "outputs": [],
   "source": [
    "class Graph:\n",
    "    nodes: str\n",
    "    edges: List[Tuple[int, int]]\n",
    "    def __init__(self, nodes: str, edges: List[Tuple[int, int]]):\n",
    "        self.nodes = nodes\n",
    "        self.edges = edges"
   ]
  },
  {
   "cell_type": "code",
   "execution_count": 52,
   "metadata": {},
   "outputs": [],
   "source": [
    "def largest_value_path(graph: Graph, i_curr_node: int, curr_letter_counts: Dict[str, int], visited: List[bool]) -> int:\n",
    "    \n",
    "    next_nodes = set()\n",
    "    if i_curr_node is None:\n",
    "        for i in range(len(graph.nodes)):\n",
    "            next_nodes.add(i)\n",
    "    else:\n",
    "        for edge in graph.edges:\n",
    "            if edge[0] == i_curr_node:\n",
    "                next_nodes.add(edge[1])\n",
    "    \n",
    "    # for logging only\n",
    "    n_visited = reduce(lambda agg, b: agg + (1 if b else 0), visited, 0)\n",
    "    indent = '  ' * n_visited\n",
    "    print(f'{indent}node[{i_curr_node}]: {n_visited} nodes visited so far, curr_letter_counts={curr_letter_counts}, next_nodes={next_nodes}')\n",
    "        \n",
    "    # no more edges to follow from current node, so just return the max count\n",
    "    if not next_nodes:\n",
    "        return max(curr_letter_counts.values())\n",
    "\n",
    "    # largest value path to be returned\n",
    "    largest = None\n",
    "    \n",
    "    # otherwise, follow each edge recursively and return the max\n",
    "    for i_next_node in next_nodes:\n",
    "        \n",
    "        # if already visited one of the next nodes, then there's a cycle, so return \"null\" (i.e. None in Python)\n",
    "        if visited[i_next_node]:\n",
    "            return None\n",
    "        \n",
    "        next_char = graph.nodes[i_next_node]\n",
    "        \n",
    "        nlc = curr_letter_counts.copy()\n",
    "        nlc[next_char] = nlc[next_char] + 1 if next_char in nlc else 1\n",
    "            \n",
    "        nv = visited.copy()\n",
    "        nv[i_next_node] = True        \n",
    "        \n",
    "        contender = largest_value_path(graph, i_next_node, nlc, nv)\n",
    "        if contender is None:\n",
    "            return None # found a cycle during recursion\n",
    "        if largest is None or contender > largest:\n",
    "            largest = contender # update largest so far\n",
    "        \n",
    "    return largest\n",
    "    "
   ]
  },
  {
   "cell_type": "code",
   "execution_count": 53,
   "metadata": {},
   "outputs": [
    {
     "name": "stdout",
     "output_type": "stream",
     "text": [
      "node[None]: 0 nodes visited so far, curr_letter_counts={}, next_nodes={0, 1, 2, 3, 4}\n",
      "  node[0]: 1 nodes visited so far, curr_letter_counts={'A': 1}, next_nodes={1, 2}\n",
      "    node[1]: 2 nodes visited so far, curr_letter_counts={'A': 1, 'B': 1}, next_nodes=set()\n",
      "    node[2]: 2 nodes visited so far, curr_letter_counts={'A': 2}, next_nodes={3}\n",
      "      node[3]: 3 nodes visited so far, curr_letter_counts={'A': 2, 'C': 1}, next_nodes={4}\n",
      "        node[4]: 4 nodes visited so far, curr_letter_counts={'A': 3, 'C': 1}, next_nodes=set()\n",
      "  node[1]: 1 nodes visited so far, curr_letter_counts={'B': 1}, next_nodes=set()\n",
      "  node[2]: 1 nodes visited so far, curr_letter_counts={'A': 1}, next_nodes={3}\n",
      "    node[3]: 2 nodes visited so far, curr_letter_counts={'A': 1, 'C': 1}, next_nodes={4}\n",
      "      node[4]: 3 nodes visited so far, curr_letter_counts={'A': 2, 'C': 1}, next_nodes=set()\n",
      "  node[3]: 1 nodes visited so far, curr_letter_counts={'C': 1}, next_nodes={4}\n",
      "    node[4]: 2 nodes visited so far, curr_letter_counts={'C': 1, 'A': 1}, next_nodes=set()\n",
      "  node[4]: 1 nodes visited so far, curr_letter_counts={'A': 1}, next_nodes=set()\n"
     ]
    }
   ],
   "source": [
    "g0 = Graph('ABACA', [(0, 1), (0, 2), (2, 3), (3, 4)])\n",
    "assert(largest_value_path(g0, None, {}, [False] * len(g0.nodes)) == 3)"
   ]
  },
  {
   "cell_type": "code",
   "execution_count": 55,
   "metadata": {},
   "outputs": [
    {
     "name": "stdout",
     "output_type": "stream",
     "text": [
      "node[None]: 0 nodes visited so far, curr_letter_counts={}, next_nodes={0}\n",
      "  node[0]: 1 nodes visited so far, curr_letter_counts={'A': 1}, next_nodes={0}\n"
     ]
    }
   ],
   "source": [
    "g1 = Graph('A', [(0, 0)])\n",
    "assert(largest_value_path(g1, None, {}, [False] * len(g1.nodes)) is None)"
   ]
  },
  {
   "cell_type": "code",
   "execution_count": null,
   "metadata": {},
   "outputs": [],
   "source": []
  },
  {
   "cell_type": "code",
   "execution_count": null,
   "metadata": {},
   "outputs": [],
   "source": []
  }
 ],
 "metadata": {
  "kernelspec": {
   "display_name": "Python 3",
   "language": "python",
   "name": "python3"
  },
  "language_info": {
   "codemirror_mode": {
    "name": "ipython",
    "version": 3
   },
   "file_extension": ".py",
   "mimetype": "text/x-python",
   "name": "python",
   "nbconvert_exporter": "python",
   "pygments_lexer": "ipython3",
   "version": "3.6.8"
  }
 },
 "nbformat": 4,
 "nbformat_minor": 2
}
