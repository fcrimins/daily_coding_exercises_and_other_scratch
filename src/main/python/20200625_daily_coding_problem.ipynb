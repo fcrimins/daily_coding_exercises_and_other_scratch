{
 "cells": [
  {
   "cell_type": "markdown",
   "metadata": {},
   "source": [
    "> This problem was asked by Amazon.\n",
    "> \n",
    "> Given an integer k and a string s, find the length of the longest substring that contains at most k distinct characters.\n",
    "> \n",
    "> For example, given s = \"abcba\" and k = 2, the longest substring with k distinct characters is \"bcb\"."
   ]
  },
  {
   "cell_type": "code",
   "execution_count": 18,
   "metadata": {},
   "outputs": [],
   "source": [
    "from collections import defaultdict"
   ]
  },
  {
   "cell_type": "code",
   "execution_count": 39,
   "metadata": {},
   "outputs": [],
   "source": [
    "def f(k: int, s: str) -> str:\n",
    "    i_longest_s = 0\n",
    "    i_longest_e = 0\n",
    "    i_current_s = 0\n",
    "    i_current_e = 0\n",
    "    current_counts = defaultdict(lambda: 0)\n",
    "    \n",
    "    for i, ch in enumerate(s):\n",
    "        if len(current_counts) < k:\n",
    "            current_counts[ch] += 1\n",
    "            print(f'current_counts = {current_counts}')\n",
    "            \n",
    "        elif ch in current_counts:  # make longest substring 1 bigger and increase count of current char\n",
    "            current_counts[ch] += 1\n",
    "            i_current_e = i\n",
    "            \n",
    "            # new char that isn't in current_counts, reduce current_counts by a char on the front end\n",
    "            if i_current_e - i_current_s > i_longest_e - i_longest_s:\n",
    "                i_longest_s, i_longest_e = i_current_s, i_current_e\n",
    "                print(f'  A i_longest_s, i_longest_e = {(i_longest_s, i_longest_e)}')\n",
    "            \n",
    "        else:\n",
    "            # new char that isn't in current_counts, reduce current_counts by a char on the front end\n",
    "            if i_current_e - i_current_s > i_longest_e - i_longest_s:\n",
    "                i_longest_s, i_longest_e = i_current_s, i_current_e\n",
    "                print(f'  B i_longest_s, i_longest_e = {(i_longest_s, i_longest_e)}')\n",
    "                \n",
    "            i_current_e = i\n",
    "            current_counts[ch] = 1\n",
    "            print(f'  current_counts B = {current_counts}')\n",
    "            while len(current_counts) > k:\n",
    "                ch_current_s = s[i_current_s]\n",
    "                n_i = current_counts[ch_current_s]\n",
    "                print(f'    ch_current_s = {ch_current_s}, n_i = {n_i}')\n",
    "                if n_i == 1:\n",
    "                    del current_counts[ch_current_s]\n",
    "                else:\n",
    "                    current_counts[ch_current_s] = n_i - 1\n",
    "                i_current_s = i_current_s + 1\n",
    "                print(f'    current_counts C = {current_counts}')      \n",
    "            \n",
    "    if i_longest_e == 0:\n",
    "        return None\n",
    "    print(f'C i_longest_s, i_longest_e = {(i_longest_s, i_longest_e)}')\n",
    "    return s[ i_longest_s : i_longest_e + 1 ]\n"
   ]
  },
  {
   "cell_type": "code",
   "execution_count": 40,
   "metadata": {},
   "outputs": [
    {
     "name": "stdout",
     "output_type": "stream",
     "text": [
      "current_counts = defaultdict(<function f.<locals>.<lambda> at 0x7f0ca8edb158>, {'a': 1})\n",
      "current_counts = defaultdict(<function f.<locals>.<lambda> at 0x7f0ca8edb158>, {'a': 1, 'b': 1})\n",
      "  current_counts B = defaultdict(<function f.<locals>.<lambda> at 0x7f0ca8edb158>, {'a': 1, 'b': 1, 'c': 1})\n",
      "    ch_current_s = a, n_i = 1\n",
      "    current_counts C = defaultdict(<function f.<locals>.<lambda> at 0x7f0ca8edb158>, {'b': 1, 'c': 1})\n",
      "  A i_longest_s, i_longest_e = (1, 3)\n",
      "  current_counts B = defaultdict(<function f.<locals>.<lambda> at 0x7f0ca8edb158>, {'b': 2, 'c': 1, 'a': 1})\n",
      "    ch_current_s = b, n_i = 2\n",
      "    current_counts C = defaultdict(<function f.<locals>.<lambda> at 0x7f0ca8edb158>, {'b': 1, 'c': 1, 'a': 1})\n",
      "    ch_current_s = c, n_i = 1\n",
      "    current_counts C = defaultdict(<function f.<locals>.<lambda> at 0x7f0ca8edb158>, {'b': 1, 'a': 1})\n",
      "C i_longest_s, i_longest_e = (1, 3)\n",
      "f(2, 'abcba') = 'bcb'\n",
      "\n",
      "current_counts = defaultdict(<function f.<locals>.<lambda> at 0x7f0ca8edb158>, {'a': 1})\n",
      "current_counts = defaultdict(<function f.<locals>.<lambda> at 0x7f0ca8edb158>, {'a': 1, 'b': 1})\n",
      "  current_counts B = defaultdict(<function f.<locals>.<lambda> at 0x7f0ca8edb158>, {'a': 1, 'b': 1, 'c': 1})\n",
      "    ch_current_s = a, n_i = 1\n",
      "    current_counts C = defaultdict(<function f.<locals>.<lambda> at 0x7f0ca8edb158>, {'b': 1, 'c': 1})\n",
      "  A i_longest_s, i_longest_e = (1, 3)\n",
      "  current_counts B = defaultdict(<function f.<locals>.<lambda> at 0x7f0ca8edb158>, {'b': 2, 'c': 1, 'a': 1})\n",
      "    ch_current_s = b, n_i = 2\n",
      "    current_counts C = defaultdict(<function f.<locals>.<lambda> at 0x7f0ca8edb158>, {'b': 1, 'c': 1, 'a': 1})\n",
      "    ch_current_s = c, n_i = 1\n",
      "    current_counts C = defaultdict(<function f.<locals>.<lambda> at 0x7f0ca8edb158>, {'b': 1, 'a': 1})\n",
      "C i_longest_s, i_longest_e = (1, 3)\n"
     ]
    }
   ],
   "source": [
    "print(f\"f(2, 'abcba') = '{f(2, 'abcba')}'\\n\")\n",
    "assert f(2, 'abcba') == 'bcb'"
   ]
  },
  {
   "cell_type": "code",
   "execution_count": null,
   "metadata": {},
   "outputs": [],
   "source": []
  }
 ],
 "metadata": {
  "kernelspec": {
   "display_name": "Python 3",
   "language": "python",
   "name": "python3"
  },
  "language_info": {
   "codemirror_mode": {
    "name": "ipython",
    "version": 3
   },
   "file_extension": ".py",
   "mimetype": "text/x-python",
   "name": "python",
   "nbconvert_exporter": "python",
   "pygments_lexer": "ipython3",
   "version": "3.6.8"
  }
 },
 "nbformat": 4,
 "nbformat_minor": 2
}
