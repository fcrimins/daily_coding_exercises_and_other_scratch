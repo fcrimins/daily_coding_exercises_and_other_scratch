{
 "cells": [
  {
   "cell_type": "markdown",
   "metadata": {},
   "source": [
    "Time for this week's practice coding interview question!\n",
    "\n",
    "Compute the nth Fibonacci Number\n",
    "\n",
    "This problem will be free for 2 weeks, then it'll go back to being available only in our full course.\n",
    "\n",
    "Do the problem this week and we'll review it together next week :)\n",
    "\n",
    "Let's review last week's question, Two Egg Problem:\n",
    "\n",
    "This is one of our most contentious questions. Some people say, \"Ugh, this is useless as an interview question,\" while others say, \"We ask this at my company, it works great.\"\n",
    "\n",
    "The bottom line is some companies do ask questions like this, so it's worth being prepared. There are a bunch of these not-exactly-programming interview questions that lean on math and logic. There are some famous ones about shuffling cards and rolling dice. If math isn't your strong suit, don't fret. It only takes a few practice problems to get the hang of these."
   ]
  },
  {
   "cell_type": "markdown",
   "metadata": {},
   "source": [
    "Write a function fib() that takes an integer nn and returns the nnth Fibonacci ↴ number.\n",
    "\n",
    "**Let's say our Fibonacci series is 0-indexed** and starts with 0. So:\n",
    "\n",
    "```\n",
    "fib(0)  # => 0\n",
    "fib(1)  # => 1\n",
    "fib(2)  # => 1\n",
    "fib(3)  # => 2\n",
    "fib(4)  # => 3\n",
    "...\n",
    "```"
   ]
  },
  {
   "cell_type": "code",
   "execution_count": 16,
   "metadata": {},
   "outputs": [],
   "source": [
    "def fib(n: int) -> int:\n",
    "    \"\"\"\n",
    "    Let's say our Fibonacci series is 0-indexed and starts with 0.\n",
    "    \"\"\"\n",
    "    f_i = 0\n",
    "    f_iplus1 = 1\n",
    "    \n",
    "    if n == 0:\n",
    "        return f_i\n",
    "    if n == 1:\n",
    "        return f_iplus1\n",
    "    \n",
    "    for i in range(2, n+1):\n",
    "        f_iplus2 = f_i + f_iplus1\n",
    "        print(f'i={i}: f_iplus2 = f_i + f_iplus1 : {f_iplus2} = {f_i} + {f_iplus1}')\n",
    "        f_i = f_iplus1\n",
    "        f_iplus1 = f_iplus2\n",
    "        \n",
    "    print(f'fib(n) = {f_iplus2}')\n",
    "    return f_iplus2"
   ]
  },
  {
   "cell_type": "code",
   "execution_count": 17,
   "metadata": {},
   "outputs": [
    {
     "name": "stdout",
     "output_type": "stream",
     "text": [
      "i=2: f_iplus2 = f_i + f_iplus1 : 1 = 0 + 1\n",
      "i=3: f_iplus2 = f_i + f_iplus1 : 2 = 1 + 1\n",
      "i=4: f_iplus2 = f_i + f_iplus1 : 3 = 1 + 2\n",
      "fib(n) = 3\n"
     ]
    }
   ],
   "source": [
    "assert(fib(4) == 3)"
   ]
  },
  {
   "cell_type": "code",
   "execution_count": 18,
   "metadata": {},
   "outputs": [
    {
     "name": "stdout",
     "output_type": "stream",
     "text": [
      "i=2: f_iplus2 = f_i + f_iplus1 : 1 = 0 + 1\n",
      "i=3: f_iplus2 = f_i + f_iplus1 : 2 = 1 + 1\n",
      "i=4: f_iplus2 = f_i + f_iplus1 : 3 = 1 + 2\n",
      "i=5: f_iplus2 = f_i + f_iplus1 : 5 = 2 + 3\n",
      "i=6: f_iplus2 = f_i + f_iplus1 : 8 = 3 + 5\n",
      "i=7: f_iplus2 = f_i + f_iplus1 : 13 = 5 + 8\n",
      "fib(n) = 13\n"
     ]
    },
    {
     "data": {
      "text/plain": [
       "13"
      ]
     },
     "execution_count": 18,
     "metadata": {},
     "output_type": "execute_result"
    }
   ],
   "source": [
    "fib(7)"
   ]
  },
  {
   "cell_type": "code",
   "execution_count": null,
   "metadata": {},
   "outputs": [],
   "source": []
  }
 ],
 "metadata": {
  "kernelspec": {
   "display_name": "Python 3",
   "language": "python",
   "name": "python3"
  },
  "language_info": {
   "codemirror_mode": {
    "name": "ipython",
    "version": 3
   },
   "file_extension": ".py",
   "mimetype": "text/x-python",
   "name": "python",
   "nbconvert_exporter": "python",
   "pygments_lexer": "ipython3",
   "version": "3.6.8"
  }
 },
 "nbformat": 4,
 "nbformat_minor": 2
}
