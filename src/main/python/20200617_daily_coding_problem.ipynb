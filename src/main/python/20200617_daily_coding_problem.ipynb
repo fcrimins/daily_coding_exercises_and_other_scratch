{
 "cells": [
  {
   "cell_type": "markdown",
   "metadata": {},
   "source": [
    "> Good morning! Here's your coding interview problem for today.\n",
    "> \n",
    "> This problem was asked by Jane Street.\n",
    "> \n",
    "> `cons(a, b)` constructs a pair, and `car(pair)` and `cdr(pair)` returns the first and last element of that pair. For example, `car(cons(3, 4))` returns 3, and `cdr(cons(3, 4))` returns 4.\n",
    "> \n",
    "> Given this implementation of cons:\n",
    "> \n",
    "> ```\n",
    "> def cons(a, b):\n",
    ">     def pair(f):\n",
    ">         return f(a, b)\n",
    ">     return pair\n",
    "> ```\n",
    "> Implement `car` and `cdr`."
   ]
  },
  {
   "cell_type": "code",
   "execution_count": 7,
   "metadata": {},
   "outputs": [],
   "source": [
    "def cons(a, b):\n",
    "    def pair(f):\n",
    "        return f(a, b)\n",
    "    return pair"
   ]
  },
  {
   "cell_type": "code",
   "execution_count": 8,
   "metadata": {},
   "outputs": [],
   "source": [
    "def car(pair):\n",
    "    f = lambda a, b: a\n",
    "    return pair(f)\n",
    "def cdr(pair):\n",
    "    f = lambda a, b: b\n",
    "    return pair(f)"
   ]
  },
  {
   "cell_type": "code",
   "execution_count": 9,
   "metadata": {},
   "outputs": [],
   "source": [
    "assert car(cons(3, 4)) == 3\n",
    "assert cdr(cons(3, 4)) == 4"
   ]
  },
  {
   "cell_type": "code",
   "execution_count": null,
   "metadata": {},
   "outputs": [],
   "source": []
  }
 ],
 "metadata": {
  "kernelspec": {
   "display_name": "Python 3",
   "language": "python",
   "name": "python3"
  },
  "language_info": {
   "codemirror_mode": {
    "name": "ipython",
    "version": 3
   },
   "file_extension": ".py",
   "mimetype": "text/x-python",
   "name": "python",
   "nbconvert_exporter": "python",
   "pygments_lexer": "ipython3",
   "version": "3.6.8"
  }
 },
 "nbformat": 4,
 "nbformat_minor": 2
}
