{
 "cells": [
  {
   "cell_type": "markdown",
   "metadata": {},
   "source": [
    "Good morning! Here's your coding interview problem for today.\n",
    "\n",
    "This problem was asked by Cisco.\n",
    "\n",
    "Given an unsigned 8-bit integer, swap its even and odd bits. The 1st and 2nd bit should be swapped, the 3rd and 4th bit should be swapped, and so on.\n",
    "\n",
    "For example, 10101010 should be 01010101. 11100010 should be 11010001.\n",
    "\n",
    "Bonus: Can you do this in one line?"
   ]
  },
  {
   "cell_type": "code",
   "execution_count": 26,
   "metadata": {},
   "outputs": [],
   "source": [
    "def swap_even_odd_bits(x):\n",
    "    print(f'x = {bin(x):>10} = {x}')\n",
    "    y = ((x << 1) & 0b10101010) + ((x >> 1) & 0b01010101)\n",
    "    print(f'y = {bin(y):>10} = {y}')\n",
    "    return y"
   ]
  },
  {
   "cell_type": "code",
   "execution_count": 27,
   "metadata": {},
   "outputs": [
    {
     "name": "stdout",
     "output_type": "stream",
     "text": [
      "x = 0b10101010 = 170\n",
      "y =  0b1010101 = 85\n",
      "x = 0b11100010 = 226\n",
      "y = 0b11010001 = 209\n"
     ]
    }
   ],
   "source": [
    "assert(swap_even_odd_bits(0b10101010) == 0b01010101)\n",
    "assert(swap_even_odd_bits(0b11100010) == 0b11010001)"
   ]
  },
  {
   "cell_type": "code",
   "execution_count": null,
   "metadata": {},
   "outputs": [],
   "source": []
  }
 ],
 "metadata": {
  "kernelspec": {
   "display_name": "Python 3",
   "language": "python",
   "name": "python3"
  },
  "language_info": {
   "codemirror_mode": {
    "name": "ipython",
    "version": 3
   },
   "file_extension": ".py",
   "mimetype": "text/x-python",
   "name": "python",
   "nbconvert_exporter": "python",
   "pygments_lexer": "ipython3",
   "version": "3.6.8"
  }
 },
 "nbformat": 4,
 "nbformat_minor": 2
}
