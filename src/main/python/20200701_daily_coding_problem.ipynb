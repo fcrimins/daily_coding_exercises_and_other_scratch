{
 "cells": [
  {
   "cell_type": "markdown",
   "metadata": {},
   "source": [
    "This problem was asked by Facebook.\n",
    "\n",
    "A builder is looking to build a row of N houses that can be of K different colors. He has a goal of minimizing cost while ensuring that no two neighboring houses are of the same color.\n",
    "\n",
    "Given an N by K matrix where the nth row and kth column represents the cost to build the nth house with kth color, return the minimum cost which achieves this goal."
   ]
  },
  {
   "cell_type": "code",
   "execution_count": 1,
   "metadata": {},
   "outputs": [],
   "source": [
    "import numpy as np"
   ]
  },
  {
   "cell_type": "code",
   "execution_count": 23,
   "metadata": {},
   "outputs": [
    {
     "data": {
      "text/plain": [
       "(5, 3)"
      ]
     },
     "execution_count": 23,
     "metadata": {},
     "output_type": "execute_result"
    }
   ],
   "source": [
    "a = np.array([[1.12, 1.22, 0.9], [0.85, 0.73, 0.69], [1.07, 1.08, 0.92], [1.0, 1.1, 1.2], [1.01, 0.93, 1.21]])\n",
    "n = a.shape[0]\n",
    "k = a.shape[1]\n",
    "(n, k)"
   ]
  },
  {
   "cell_type": "code",
   "execution_count": 26,
   "metadata": {},
   "outputs": [],
   "source": [
    "def min_cost(a: np.array) -> float:\n",
    "    n = a.shape[0]\n",
    "    k = a.shape[1]\n",
    "    mins = [0.0] * k\n",
    "    print(f'initial mins = {mins}')\n",
    "    for next_costs in a:\n",
    "        print(f'  next_costs = {next_costs}')\n",
    "        new_mins = []\n",
    "        for i in range(k):\n",
    "            excl_min = min(map(lambda tup: tup[1], filter(lambda tup: tup[0] != i, enumerate(mins))))\n",
    "            print(f'    excl_min = {excl_min}')\n",
    "            new_mins += [excl_min + next_costs[i]]\n",
    "            print(f'      new_mins = {new_mins}')\n",
    "        mins = new_mins\n",
    "            \n",
    "    return min(mins)        "
   ]
  },
  {
   "cell_type": "code",
   "execution_count": 27,
   "metadata": {},
   "outputs": [
    {
     "name": "stdout",
     "output_type": "stream",
     "text": [
      "initial mins = [0.0, 0.0, 0.0]\n",
      "  next_costs = [1.12 1.22 0.9 ]\n",
      "    excl_min = 0.0\n",
      "      new_mins = [1.12]\n",
      "    excl_min = 0.0\n",
      "      new_mins = [1.12, 1.22]\n",
      "    excl_min = 0.0\n",
      "      new_mins = [1.12, 1.22, 0.9]\n",
      "  next_costs = [0.85 0.73 0.69]\n",
      "    excl_min = 0.9\n",
      "      new_mins = [1.75]\n",
      "    excl_min = 0.9\n",
      "      new_mins = [1.75, 1.63]\n",
      "    excl_min = 1.12\n",
      "      new_mins = [1.75, 1.63, 1.81]\n",
      "  next_costs = [1.07 1.08 0.92]\n",
      "    excl_min = 1.63\n",
      "      new_mins = [2.7]\n",
      "    excl_min = 1.75\n",
      "      new_mins = [2.7, 2.83]\n",
      "    excl_min = 1.63\n",
      "      new_mins = [2.7, 2.83, 2.55]\n",
      "  next_costs = [1.  1.1 1.2]\n",
      "    excl_min = 2.55\n",
      "      new_mins = [3.55]\n",
      "    excl_min = 2.55\n",
      "      new_mins = [3.55, 3.65]\n",
      "    excl_min = 2.7\n",
      "      new_mins = [3.55, 3.65, 3.9000000000000004]\n",
      "  next_costs = [1.01 0.93 1.21]\n",
      "    excl_min = 3.65\n",
      "      new_mins = [4.66]\n",
      "    excl_min = 3.55\n",
      "      new_mins = [4.66, 4.4799999999999995]\n",
      "    excl_min = 3.55\n",
      "      new_mins = [4.66, 4.4799999999999995, 4.76]\n"
     ]
    },
    {
     "data": {
      "text/plain": [
       "4.4799999999999995"
      ]
     },
     "execution_count": 27,
     "metadata": {},
     "output_type": "execute_result"
    }
   ],
   "source": [
    "min_cost(a)"
   ]
  },
  {
   "cell_type": "code",
   "execution_count": null,
   "metadata": {},
   "outputs": [],
   "source": []
  }
 ],
 "metadata": {
  "kernelspec": {
   "display_name": "Python 3",
   "language": "python",
   "name": "python3"
  },
  "language_info": {
   "codemirror_mode": {
    "name": "ipython",
    "version": 3
   },
   "file_extension": ".py",
   "mimetype": "text/x-python",
   "name": "python",
   "nbconvert_exporter": "python",
   "pygments_lexer": "ipython3",
   "version": "3.6.8"
  }
 },
 "nbformat": 4,
 "nbformat_minor": 2
}
