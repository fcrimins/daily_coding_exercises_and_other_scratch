{
 "cells": [
  {
   "cell_type": "code",
   "execution_count": 1,
   "metadata": {
    "collapsed": true
   },
   "outputs": [],
   "source": [
    "import sys\n",
    "sys.path.insert(0, '/Users/taku-y/git/github/taku-y/pymc3/')"
   ]
  },
  {
   "cell_type": "code",
   "execution_count": 2,
   "metadata": {
    "collapsed": false
   },
   "outputs": [
    {
     "name": "stdout",
     "output_type": "stream",
     "text": [
      "Populating the interactive namespace from numpy and matplotlib\n"
     ]
    }
   ],
   "source": [
    "%pylab inline\n",
    "import numpy as np\n",
    "from scipy import stats\n",
    "import pymc3 as pm\n",
    "import seaborn as sns\n",
    "import matplotlib.pyplot as plt"
   ]
  },
  {
   "cell_type": "markdown",
   "metadata": {},
   "source": [
    "Total sample size is 1000, 10 times larger than the full-batch example (advi.ipynb). "
   ]
  },
  {
   "cell_type": "code",
   "execution_count": 3,
   "metadata": {
    "collapsed": false
   },
   "outputs": [],
   "source": [
    "total_size = 1000\n",
    "data = np.random.randn(total_size)"
   ]
  },
  {
   "cell_type": "markdown",
   "metadata": {},
   "source": [
    "To make observed variables be mini-batched, give tensors to their 'observed' arguments. "
   ]
  },
  {
   "cell_type": "code",
   "execution_count": 4,
   "metadata": {
    "collapsed": false
   },
   "outputs": [
    {
     "name": "stdout",
     "output_type": "stream",
     "text": [
      "Applied log-transform to sd and added transformed sd_log to model.\n"
     ]
    }
   ],
   "source": [
    "import theano.tensor as T\n",
    "\n",
    "data_t = T.vector()\n",
    "data_t.tag.test_value=np.zeros(1,)\n",
    "\n",
    "with pm.Model() as model:\n",
    "    mu = pm.Normal('mu', mu=0, sd=1, testval=0)\n",
    "    sd = pm.HalfNormal('sd', sd=1)\n",
    "    n = pm.Normal('n', mu=mu, sd=sd, observed=data_t)\n",
    "    \n",
    "minibatch_RVs = [n]\n",
    "minibatch_tensors = [data_t]"
   ]
  },
  {
   "cell_type": "markdown",
   "metadata": {},
   "source": [
    "Create a generator for mini-batches of size 100. The mini-batches are consumed in the advi function. "
   ]
  },
  {
   "cell_type": "code",
   "execution_count": 5,
   "metadata": {
    "collapsed": true
   },
   "outputs": [],
   "source": [
    "from copy import deepcopy\n",
    "\n",
    "def create_minibatch(data):\n",
    "    data_ = deepcopy(data)\n",
    "    \n",
    "    while True:\n",
    "        data_ = np.roll(data_, 100, axis=0)\n",
    "        yield data_[:100]\n",
    "\n",
    "minibatches = [create_minibatch(data)]"
   ]
  },
  {
   "cell_type": "code",
   "execution_count": 6,
   "metadata": {
    "collapsed": false,
    "scrolled": false
   },
   "outputs": [
    {
     "name": "stdout",
     "output_type": "stream",
     "text": [
      "Iteration 0 [0%]: ELBO = -18199.42\n",
      "Iteration 4000 [10%]: ELBO = -1589.7\n",
      "Iteration 8000 [20%]: ELBO = -1659.69\n",
      "Iteration 12000 [30%]: ELBO = -1506.56\n",
      "Iteration 16000 [40%]: ELBO = -1523.74\n",
      "Iteration 20000 [50%]: ELBO = -1515.66\n",
      "Iteration 24000 [60%]: ELBO = -1517.05\n",
      "Iteration 28000 [70%]: ELBO = -1516.15\n",
      "Iteration 32000 [80%]: ELBO = -1521.5\n",
      "Iteration 36000 [90%]: ELBO = -1525.87\n",
      "Finished [100%]: ELBO = -1471.46\n"
     ]
    }
   ],
   "source": [
    "means, sds, elbos = pm.variational.advi_minibatch(\n",
    "    model=model, n=40000, minibatch_tensors=minibatch_tensors, \n",
    "    minibatch_RVs=minibatch_RVs, minibatches=minibatches, \n",
    "    total_size=total_size\n",
    ")"
   ]
  },
  {
   "cell_type": "code",
   "execution_count": 7,
   "metadata": {
    "collapsed": false
   },
   "outputs": [
    {
     "name": "stdout",
     "output_type": "stream",
     "text": [
      "Applied log-transform to sd and added transformed sd_log to model.\n",
      " [-----------------100%-----------------] 5000 of 5000 complete in 1.5 sec"
     ]
    }
   ],
   "source": [
    "with pm.Model():\n",
    "    mu = pm.Normal('mu', mu=0, sd=1, testval=0)\n",
    "    sd = pm.HalfNormal('sd', sd=1)\n",
    "    n = pm.Normal('n', mu=mu, sd=sd, observed=data)\n",
    "    step = pm.NUTS()\n",
    "    trace = pm.sample(5000, step)"
   ]
  },
  {
   "cell_type": "code",
   "execution_count": 8,
   "metadata": {
    "collapsed": false
   },
   "outputs": [
    {
     "name": "stdout",
     "output_type": "stream",
     "text": [
      "-0.00800816920208\n",
      "0.00890622414792\n",
      "0.0323732874514\n",
      "0.0226791481698\n"
     ]
    }
   ],
   "source": [
    "print(trace['mu'].mean())\n",
    "print(trace['sd_log'].mean())\n",
    "print(trace['mu'].std())\n",
    "print(trace['sd_log'].std())"
   ]
  },
  {
   "cell_type": "markdown",
   "metadata": {},
   "source": [
    "The posterior variance is smaller than the full-batch example because of the total sample size. "
   ]
  },
  {
   "cell_type": "code",
   "execution_count": 9,
   "metadata": {
    "collapsed": false
   },
   "outputs": [
    {
     "data": {
      "text/plain": [
       "<matplotlib.legend.Legend at 0x153b4ce90>"
      ]
     },
     "execution_count": 9,
     "metadata": {},
     "output_type": "execute_result"
    },
    {
     "data": {
      "image/png": "[encoded data removed]",
      "text/plain": [
       "<matplotlib.figure.Figure at 0x153aef090>"
      ]
     },
     "metadata": {},
     "output_type": "display_data"
    }
   ],
   "source": [
    "ax = sns.distplot(trace['mu'], label='NUTS')\n",
    "xlim = ax.get_xlim()\n",
    "x = np.linspace(xlim[0], xlim[1], 100)\n",
    "y = stats.norm(means['mu'], sds['mu']).pdf(x)\n",
    "ax.plot(x, y, label='ADVI')\n",
    "ax.set_title('mu')\n",
    "ax.legend(loc=0)"
   ]
  },
  {
   "cell_type": "code",
   "execution_count": 10,
   "metadata": {
    "collapsed": false
   },
   "outputs": [
    {
     "data": {
      "text/plain": [
       "[<matplotlib.lines.Line2D at 0x153fe9250>]"
      ]
     },
     "execution_count": 10,
     "metadata": {},
     "output_type": "execute_result"
    },
    {
     "data": {
      "image/png": "[encoded data removed]",
      "text/plain": [
       "<matplotlib.figure.Figure at 0x153dd7a50>"
      ]
     },
     "metadata": {},
     "output_type": "display_data"
    }
   ],
   "source": [
    "import matplotlib.pyplot as plt\n",
    "plt.plot(elbos[5000:])"
   ]
  },
  {
   "cell_type": "code",
   "execution_count": null,
   "metadata": {
    "collapsed": true
   },
   "outputs": [],
   "source": []
  }
 ],
 "metadata": {
  "kernelspec": {
   "display_name": "Python 2",
   "language": "python",
   "name": "python2"
  },
  "language_info": {
   "codemirror_mode": {
    "name": "ipython",
    "version": 2
   },
   "file_extension": ".py",
   "mimetype": "text/x-python",
   "name": "python",
   "nbconvert_exporter": "python",
   "pygments_lexer": "ipython2",
   "version": "2.7.11"
  }
 },
 "nbformat": 4,
 "nbformat_minor": 0
}
