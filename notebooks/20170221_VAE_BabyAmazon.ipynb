{
 "cells": [
  {
   "cell_type": "markdown",
   "metadata": {},
   "source": [
    "This notebook uses Amazon (baby products) ratings data to predict ratings on other products.  The data is very, very sparse however (less than 0.1%) so you shouldn't really expect a good model."
   ]
  },
  {
   "cell_type": "code",
   "execution_count": 1,
   "metadata": {
    "collapsed": false
   },
   "outputs": [],
   "source": [
    "# https://github.com/ipython/ipykernel/issues/111\n",
    "# Create logger\n",
    "import logging\n",
    "logger = logging.getLogger()\n",
    "logger.setLevel(logging.DEBUG)\n",
    "\n",
    "# Create STDERR handler\n",
    "import sys\n",
    "handler = logging.StreamHandler(sys.stderr)\n",
    "# ch.setLevel(logging.DEBUG)\n",
    "\n",
    "# Create formatter and add it to the handler\n",
    "formatter = logging.Formatter('%(asctime)-15s : %(levelname)s : %(message)s') # - %(name)s %(clientip)s %(user)-8s\n",
    "handler.setFormatter(formatter)\n",
    "\n",
    "# Set STDERR handler as the only handler \n",
    "logger.handlers = [handler]"
   ]
  },
  {
   "cell_type": "code",
   "execution_count": 2,
   "metadata": {
    "collapsed": false
   },
   "outputs": [],
   "source": [
    "import numpy as np\n",
    "import tensorflow as tf\n",
    "import matplotlib.pyplot as plt\n",
    "from importlib import reload\n",
    "%matplotlib inline\n",
    "np.random.seed(0)\n",
    "tf.set_random_seed(0)"
   ]
  },
  {
   "cell_type": "code",
   "execution_count": 3,
   "metadata": {
    "collapsed": false
   },
   "outputs": [
    {
     "name": "stdout",
     "output_type": "stream",
     "text": [
      "user          object\n",
      "item          object\n",
      "rating       float64\n",
      "timestamp      int64\n",
      "dtype: object\n",
      "Index(['user', 'item', 'rating', 'timestamp'], dtype='object')\n",
      "(915446, 4)\n"
     ]
    }
   ],
   "source": [
    "import os\n",
    "import pandas as pd\n",
    "datasets_path = '/home/fred/data'\n",
    "small_ratings_file = os.path.join(datasets_path, 'amazon', 'ratings_Baby.csv')\n",
    "df = pd.read_csv(small_ratings_file, sep=',', header=None, names=['user', 'item', 'rating', 'timestamp'])\n",
    "print('{}\\n{}\\n{}'.format(df.dtypes, df.columns, df.shape)) # 915,446 total ratings"
   ]
  },
  {
   "cell_type": "code",
   "execution_count": 4,
   "metadata": {
    "collapsed": false
   },
   "outputs": [
    {
     "name": "stderr",
     "output_type": "stream",
     "text": [
      "2017-02-24 07:57:23,557 : INFO : tf_amazon imported\n",
      "2017-02-24 07:57:23,570 : INFO : Loading train.py\n"
     ]
    }
   ],
   "source": [
    "from tf_amazon import sparse_pivot\n",
    "from tf_amazon import vae\n",
    "from tf_amazon import dataset\n",
    "from tf_amazon import train"
   ]
  },
  {
   "cell_type": "code",
   "execution_count": 12,
   "metadata": {
    "collapsed": false
   },
   "outputs": [
    {
     "name": "stdout",
     "output_type": "stream",
     "text": [
      "58940\n",
      "shape=(58940, 1332); n_nonzero=[50000, 20000, 0]; pct_nonzero=0.064%\n"
     ]
    }
   ],
   "source": [
    "reload(sparse_pivot)\n",
    "\n",
    "# including both training and test data in the same matrix so that all users and\n",
    "# items are accounted for in the resulting DataSet\n",
    "n_training = 50000 # training takes 6 minutes for 30 epochs with 50k and 20k\n",
    "n_validation = 20000\n",
    "n_test = 0\n",
    "trmat, vamat, temat = sparse_pivot.f(df[0 : n_training + n_validation + n_test],\n",
    "                                     'user', 'item', 'rating', n_validation, n_test)\n",
    "\n",
    "# scale down to [0,1], though note that 0 indicates missing value in csr_matrix, this is what was causing\n",
    "# the cost to go to NaN at times, self.x_reconstr_mean would end up with a value of 1.0 which would cause\n",
    "# tf.log(1e-10 + 1 - self.x_reconstr_mean) to be -inf\n",
    "trmat = trmat * 0.2\n",
    "vamat = vamat * 0.2\n",
    "temat = temat * 0.2\n",
    "\n",
    "# number of *unique* users and items\n",
    "n_users = trmat.shape[0]\n",
    "n_items = trmat.shape[1] # scipy.sparse.csr_matrix\n",
    "print(n_users) # TODO: shouldn't there be fewer given overlap (or perhaps no overlap in first 50?)\n",
    "pct_nonzero = n_training * 100 / trmat.shape[0] / trmat.shape[1]\n",
    "print('shape={}; n_nonzero=[{}, {}, {}]; pct_nonzero={:.3f}%'.format(trmat.shape, len(trmat.nonzero()[0]),\n",
    "                                                len(vamat.nonzero()[0]), len(temat.nonzero()[0]), pct_nonzero))\n",
    "#print(trmat.todense())"
   ]
  },
  {
   "cell_type": "markdown",
   "metadata": {},
   "source": [
    "#### TODO:\n",
    "1. need to sample evenly from the 5 recommendation levels\n",
    "  * or just weight predictions in the loss function inversely proportional to their occurrence probability\n",
    "2. probably also need to exclude users with only 1 rating during training as:\n",
    "  * they don't contain any relevant useful information in the way of the relationship between ratings of a single user\n",
    "  * and, as such, they bias the computed error upwards"
   ]
  },
  {
   "cell_type": "code",
   "execution_count": 13,
   "metadata": {
    "collapsed": false,
    "scrolled": true
   },
   "outputs": [
    {
     "name": "stderr",
     "output_type": "stream",
     "text": [
      "2017-02-24 07:58:56,425 : INFO : Loading train.py\n",
      "/home/fred/anaconda3/lib/python3.5/site-packages/tensorflow/python/ops/gradients_impl.py:91: UserWarning: Converting sparse IndexedSlices to a dense Tensor of unknown shape. This may consume a large amount of memory.\n",
      "  \"Converting sparse IndexedSlices to a dense Tensor of unknown shape. \"\n"
     ]
    },
    {
     "name": "stdout",
     "output_type": "stream",
     "text": [
      "batch_size = 100\n"
     ]
    },
    {
     "name": "stderr",
     "output_type": "stream",
     "text": [
      "2017-02-24 07:59:11,579 : INFO : Epoch: 001 cost=0.672 vacost=0.791 rmse=0.2662 varmse=0.4302\n",
      "2017-02-24 07:59:11,632 : INFO :                     [0.475, 0.326, nan, 0.132, 0.225] avg=nan stdev=nan\n",
      "2017-02-24 07:59:24,540 : INFO : Epoch: 002 cost=0.399 vacost=0.783 rmse=0.2552 varmse=0.4264\n",
      "2017-02-24 07:59:24,540 : INFO :                     [0.487, 0.340, nan, 0.118, 0.200] avg=nan stdev=nan\n",
      "2017-02-24 07:59:37,249 : INFO : Epoch: 003 cost=0.397 vacost=0.776 rmse=0.2541 varmse=0.4227\n",
      "2017-02-24 07:59:37,250 : INFO :                     [0.488, 0.338, nan, 0.117, 0.198] avg=nan stdev=nan\n",
      "2017-02-24 07:59:50,236 : INFO : Epoch: 004 cost=0.397 vacost=0.771 rmse=0.2537 varmse=0.4201\n",
      "2017-02-24 07:59:50,237 : INFO :                     [0.486, 0.337, 0.200, 0.117, 0.197] avg=0.267 stdev=0.130\n",
      "2017-02-24 08:00:03,223 : INFO : Epoch: 005 cost=0.396 vacost=0.766 rmse=0.2535 varmse=0.4177\n",
      "2017-02-24 08:00:03,223 : INFO :                     [0.487, 0.338, 0.201, 0.115, 0.197] avg=0.268 stdev=0.131\n",
      "2017-02-24 08:00:15,789 : INFO : Epoch: 006 cost=0.396 vacost=0.765 rmse=0.2533 varmse=0.4170\n",
      "2017-02-24 08:00:15,790 : INFO :                     [0.490, nan, 0.200, 0.116, 0.196] avg=nan stdev=nan\n",
      "2017-02-24 08:01:16,491 : INFO : Epoch: 011 cost=0.394 vacost=0.760 rmse=0.2527 varmse=0.4141\n",
      "2017-02-24 08:01:16,491 : INFO :                     [nan, nan, nan, 0.113, 0.194] avg=nan stdev=nan\n",
      "2017-02-24 08:02:16,791 : INFO : Epoch: 016 cost=0.394 vacost=0.756 rmse=0.2525 varmse=0.4119\n",
      "2017-02-24 08:02:16,792 : INFO :                     [0.487, 0.337, nan, 0.115, 0.195] avg=nan stdev=nan\n",
      "2017-02-24 08:03:16,646 : INFO : Epoch: 021 cost=0.394 vacost=0.754 rmse=0.2519 varmse=0.4113\n",
      "2017-02-24 08:03:16,647 : INFO :                     [0.486, nan, nan, 0.115, 0.194] avg=nan stdev=nan\n",
      "2017-02-24 08:04:17,627 : INFO : Epoch: 026 cost=0.394 vacost=0.753 rmse=0.2523 varmse=0.4105\n",
      "2017-02-24 08:04:17,627 : INFO :                     [0.485, 0.339, 0.199, 0.114, 0.194] avg=0.266 stdev=0.131\n",
      "2017-02-24 08:05:07,752 : INFO : Epoch: 030 cost=0.393 vacost=0.751 rmse=0.2515 varmse=0.4098\n",
      "2017-02-24 08:05:07,752 : INFO :                     [0.488, nan, 0.200, 0.114, 0.193] avg=nan stdev=nan\n",
      "2017-02-24 08:05:07,753 : INFO : Training complete\n"
     ]
    }
   ],
   "source": [
    "reload(vae)\n",
    "reload(dataset)\n",
    "reload(train)\n",
    "\n",
    "trdata = dataset.DataSet(trmat)\n",
    "vadata = dataset.DataSet(vamat)\n",
    "\n",
    "netarch = dict(\n",
    "         n_input=trmat.shape[1], # number of items (e.g. 258 items vs. 9617 users)\n",
    "         n_hidden_recog_1=60, # 1st layer encoder neurons\n",
    "         n_hidden_recog_2=40, # 2nd layer encoder neurons\n",
    "         n_z=20,              # dimensionality of latent space\n",
    "         n_hidden_gener_1=40, # 1st layer decoder neurons\n",
    "         n_hidden_gener_2=60) # 2nd layer decoder neurons\n",
    "\n",
    "untrained_vae = vae.VariationalAutoencoder(netarch,\n",
    "                                           min_rating=0.2,\n",
    "                                           use_rmse=False,\n",
    "                                           rdist=None)\n",
    "\n",
    "batch_size = int(min(100, n_users/10))\n",
    "print('batch_size = {}'.format(batch_size))\n",
    "trained_vae = train.train(untrained_vae, trdata, vadata, display_step=5, training_epochs=30, batch_size=batch_size)"
   ]
  },
  {
   "cell_type": "markdown",
   "metadata": {},
   "source": [
    "#### Question: How really useful are ratings anyway?  The original ratings idea was based around sentiment, that it was a more fundamental building block than a Tweet.  But how much does someone really use their ratings on Netflix--occasionally at best.  On the other hand search is very useful!"
   ]
  },
  {
   "cell_type": "code",
   "execution_count": 18,
   "metadata": {
    "collapsed": false
   },
   "outputs": [
    {
     "name": "stdout",
     "output_type": "stream",
     "text": [
      "poly: 0.2051 x + 0.6209; uniqpoly: 0.1326 x + 0.6417\n"
     ]
    },
    {
     "data": {
      "image/png": "[encoded data removed]",
      "text/plain": [
       "<matplotlib.figure.Figure at 0x7fb93c399198>"
      ]
     },
     "metadata": {},
     "output_type": "display_data"
    }
   ],
   "source": [
    "x_sample = trdata.next_batch(20).todense()\n",
    "x_mask = np.greater(x_sample, 0.1)\n",
    "x_reconstruct = trained_vae.reconstruct(x_sample)\n",
    "x_errors = x_reconstruct - x_sample\n",
    "x_reduceddim = trained_vae.transform(x_sample) # note that this doesn't sample z's, it only returns z_mean\n",
    "x_loss = trained_vae.loss(x_sample, x_reconstruct)\n",
    "\n",
    "fig, ax = plt.subplots(1, 2, figsize=(11, 3.5))\n",
    "xs = np.asarray(x_sample[x_mask]).flatten()\n",
    "ys = np.asarray(x_reconstruct[x_mask]).reshape(-1)\n",
    "ax[0].plot(xs, ys, 'b.')\n",
    "\n",
    "uniqxs = np.unique(xs)\n",
    "uniqys = [np.mean(ys[np.where(xs == x)]) for x in uniqxs]\n",
    "\n",
    "# the coefficient of this polynomial might be worth maximizing as it shows that the model is producing\n",
    "# a good separation between low and high ratings and not just fitting a constant to the mode of ratings\n",
    "poly = np.poly1d(np.polyfit(xs, ys, 1))\n",
    "uniqpoly = np.poly1d(np.polyfit(uniqxs, uniqys, 1)) # polynomial over the averages for each x value\n",
    "print('poly: {}; uniqpoly: {}'.format(str(poly)[2:], str(uniqpoly)[2:]))\n",
    "\n",
    "ax[0].set_title('Reconstructions')\n",
    "ax[0].plot(uniqxs, poly(uniqxs))\n",
    "ax[0].plot(uniqxs, uniqpoly(uniqxs))\n",
    "ax[0].plot(uniqxs, uniqxs)\n",
    "ax[0].set_xlim(0.1, 1.1); ax[0].set_ylim(0, 1)\n",
    "\n",
    "ax[1].set_title('Errors')\n",
    "ax[1].plot(xs, np.asarray(x_errors[x_mask]).reshape(-1), 'b.')\n",
    "ax[1].plot([0.1, 1.1], [0, 0], 'r')\n",
    "ax[1].set_xlim(0.1, 1.1); ax[1].set_ylim(-0.5, 0.5);"
   ]
  },
  {
   "cell_type": "code",
   "execution_count": 7,
   "metadata": {
    "collapsed": false
   },
   "outputs": [
    {
     "name": "stdout",
     "output_type": "stream",
     "text": [
      "x = [[ 0.  0.  0.  0.  0.  0.  0.  0.  0.  0.  0.  0.  0.  0.  0.  0.  0.  0.\n",
      "   0.  0.  0.  0.  0.  0.  0.  0.  0.  0.  0.  0.  0.  0.  0.  0.  0.  0.\n",
      "   0.  0.  0.  0.  0.  0.  0.  0.  0.  0.  0.  0.  0.  0.  0.  0.  0.  0.\n",
      "   0.  0.  0.  0.  0.  0.  0.  0.  0.  0.  0.  0.  0.  0.  0.  0.  0.  0.\n",
      "   0.  0.  0.  0.  0.  0.  0.  0.  0.  0.  0.  0.  0.  0.  0.  0.  0.  0.\n",
      "   0.  0.  0.  0.  0.  0.  0.  0.  0.  0.  0.  0.  0.  0.  0.  0.  0.  0.\n",
      "   0.  0.  0.  0.  0.  0.  0.  0.  0.  0.  0.  0.  0.  0.  0.  0.  0.  0.\n",
      "   0.  0.  0.  0.  0.  0.  0.  0.  0.  0.  0.  0.  0.  0.  0.  0.  0.  0.\n",
      "   0.  0.  0.  0.  0.  0.  0.  0.  0.  0.  0.  0.  0.  0.  0.  0.  0.  0.\n",
      "   0.  0.  0.  0.  0.  0.  0.  0.  0.  0.  0.  0.  0.  0.  0.  0.  0.  0.\n",
      "   0.  0.  0.  0.  0.  0.  0.  0.  0.  0.  0.  0.  0.  0.  0.  0.  0.  0.\n",
      "   0.  0.  0.  0.  0.  0.  0.  0.  0.  0.  0.  0.  0.  0.  0.  0.  0.  0.\n",
      "   0.  0.  0.  0.  0.  0.  0.  0.  0.  0.  0.]]\n",
      "reconstructed = [[ 0.  0.  0.  0.  0.  0.  0.  0.  0.  0.  0.  0.  0.  0.  0.  0.  0.  0.\n",
      "   0.  0.  0.  0.  0.  0.  0.  0.  0.  0.  0.  0.  0.  0.  0.  0.  0.  0.\n",
      "   0.  0.  0.  0.  0.  0.  0.  0.  0.  0.  0.  0.  0.  0.  0.  0.  0.  0.\n",
      "   0.  0.  0.  0.  0.  0.  0.  0.  0.  0.  0.  0.  0.  0.  0.  0.  0.  0.\n",
      "   0.  0.  0.  0.  0.  0.  0.  0.  0.  0.  0.  0.  0.  0.  0.  0.  0.  0.\n",
      "   0.  0.  0.  0.  0.  0.  0.  0.  0.  0.  0.  0.  0.  0.  0.  0.  0.  0.\n",
      "   0.  0.  0.  0.  0.  0.  0.  0.  0.  0.  0.  0.  0.  0.  0.  0.  0.  0.\n",
      "   0.  0.  0.  0.  0.  0.  0.  0.  0.  0.  0.  0.  0.  0.  0.  0.  0.  0.\n",
      "   0.  0.  0.  0.  0.  0.  0.  0.  0.  0.  0.  0.  0.  0.  0.  0.  0.  0.\n",
      "   0.  0.  0.  0.  0.  0.  0.  0.  0.  0.  0.  0.  0.  0.  0.  0.  0.  0.\n",
      "   0.  0.  0.  0.  0.  0.  0.  0.  0.  0.  0.  0.  0.  0.  0.  0.  0.  0.\n",
      "   0.  0.  0.  0.  0.  0.  0.  0.  0.  0.  0.  0.  0.  0.  0.  0.  0.  0.\n",
      "   0.  0.  0.  0.  0.  0.  0.  0.  0.  0.  0.]]\n",
      "reduceddim = [[ -1.56848691e-03  -1.35207921e-03   6.11824915e-04   1.27835199e-04\n",
      "    6.97646290e-04   6.50115311e-04  -2.29657814e-03   7.02010351e-04\n",
      "   -9.53270122e-04   1.35938637e-04  -9.00799409e-04  -1.92999840e-04\n",
      "   -1.40437484e-03   4.32812958e-04   2.27833167e-04   1.16935000e-04\n",
      "    5.24884090e-05   9.58738849e-04  -1.41735608e-03   1.23075210e-03]]\n",
      "loss = (nan, 1.7702579e-05)\n"
     ]
    }
   ],
   "source": [
    "x_sample = trdata.next_batch(1).todense()\n",
    "x_reconstruct = np.multiply(trained_vae.reconstruct(x_sample), np.greater(x_sample, 0.1))\n",
    "x_reduceddim = trained_vae.transform(x_sample) # note that this doesn't sample z's, it only returns z_mean\n",
    "x_loss = trained_vae.loss(x_sample, x_reconstruct)\n",
    "print('x = {}'.format(x_sample))\n",
    "print('reconstructed = {}'.format(x_reconstruct))\n",
    "print('reduceddim = {}'.format(x_reduceddim))\n",
    "print('loss = {}'.format(x_loss))"
   ]
  },
  {
   "cell_type": "code",
   "execution_count": 8,
   "metadata": {
    "collapsed": false
   },
   "outputs": [
    {
     "name": "stdout",
     "output_type": "stream",
     "text": [
      "x = [[ 0.2  0.2  0.2  0.2  0.2  0.2  0.2  0.2  0.2  0.2  0.2  0.2  0.2  0.2\n",
      "   0.2  0.2  0.2  0.2  0.2  0.2  0.2  0.2  0.2  0.2  0.2  0.2  0.2  0.2\n",
      "   0.2  0.2  0.2  0.2  0.2  0.2  0.2  0.2  0.2  0.2  0.2  0.2  0.2  0.2\n",
      "   0.2  0.2  0.2  0.2  0.2  0.2  0.2  0.2  0.2  0.2  0.2  0.2  0.2  0.2\n",
      "   0.2  0.2  0.2  0.2  0.2  0.2  0.2  0.2  0.2  0.2  0.2  0.2  0.2  0.2\n",
      "   0.2  0.2  0.2  0.2  0.2  0.2  0.2  0.2  0.2  0.2  0.2  0.2  0.2  0.2\n",
      "   0.2  0.2  0.2  0.2  0.2  0.2  0.2  0.2  0.2  0.2  0.2  0.2  0.2  0.2\n",
      "   0.2  0.2  0.2  0.2  0.2  0.2  0.2  0.2  0.2  0.2  0.2  0.2  0.2  0.2\n",
      "   0.2  0.2  0.2  0.2  0.2  0.2  0.2  0.2  0.2  0.2  0.2  0.2  0.2  0.2\n",
      "   0.2  0.2  0.2  0.2  0.2  0.2  0.2  0.2  0.2  0.2  0.2  0.2  0.2  0.2\n",
      "   0.2  0.2  0.2  0.2  0.2  0.2  0.2  0.2  0.2  0.2  0.2  0.2  0.2  0.2\n",
      "   0.2  0.2  0.2  0.2  0.2  0.2  0.2  0.2  0.2  0.2  0.2  0.2  0.2  0.2\n",
      "   0.2  0.2  0.2  0.2  0.2  0.2  0.2  0.2  0.2  0.2  0.2  0.2  0.2  0.2\n",
      "   0.2  0.2  0.2  0.2  0.2  0.2  0.2  0.2  0.2  0.2  0.2  0.2  0.2  0.2\n",
      "   0.2  0.2  0.2  0.2  0.2  0.2  0.2  0.2  0.2  0.2  0.2  0.2  0.2  0.2\n",
      "   0.2  0.2  0.2  0.2  0.2  0.2  0.2  0.2  0.2  0.2  0.2  0.2  0.2  0.2\n",
      "   0.2  0.2  0.2]]\n",
      "reconstructed = [[ 0.97578645  0.97461206  0.73985392  0.8696205   0.88077408  0.98409039\n",
      "   0.94629854  0.9149707   0.44595733  0.91272599  0.98723292  0.83414054\n",
      "   0.87168163  0.9934094   0.97873962  0.98491991  0.8738094   0.97834593\n",
      "   0.97193718  0.96770579  0.71980762  0.98770255  0.89049131  0.90523779\n",
      "   0.96986312  0.96860754  0.95664561  0.9439171   0.60836726  0.98493409\n",
      "   0.53031248  0.19738737  0.99570638  0.76347554  0.98773682  0.95559514\n",
      "   0.80382293  0.98585957  0.95958644  0.99386013  0.8805607   0.97487086\n",
      "   0.99400973  0.98481041  0.8948831   0.84359533  0.96781969  0.83339208\n",
      "   0.81482595  0.50335318  0.81219721  0.94816583  0.5977993   0.37023112\n",
      "   0.46204072  0.98818064  0.76048177  0.61152315  0.98493332  0.97246563\n",
      "   0.98861337  0.97242379  0.78967732  0.74154323  0.89443308  0.81874937\n",
      "   0.98087835  0.82760632  0.54421222  0.33985409  0.57337475  0.39283052\n",
      "   0.47444034  0.98756856  0.47931382  0.18746907  0.80558109  0.17538995\n",
      "   0.82548773  0.98434573  0.96768022  0.98181355  0.99634665  0.98168242\n",
      "   0.18128689  0.56494403  0.98537272  0.79514879  0.27786133  0.97178584\n",
      "   0.64073896  0.80524474  0.76710802  0.59813887  0.18185602  0.98427874\n",
      "   0.77141666  0.93290854  0.57526988  0.79259437  0.79085457  0.99141032\n",
      "   0.97123104  0.90456688  0.19879119  0.98362815  0.98968571  0.94376403\n",
      "   0.6897909   0.78584617  0.98382866  0.58595395  0.66264623  0.98724246\n",
      "   0.59580576  0.79776973  0.97525066  0.60286516  0.47316676  0.98627812\n",
      "   0.39219248  0.39880341  0.5876627   0.91099405  0.86240464  0.70738602\n",
      "   0.47732604  0.85470623  0.8630622   0.63416338  0.94278789  0.98859614\n",
      "   0.917862    0.96772367  0.91590917  0.98929822  0.99601799  0.93340409\n",
      "   0.91369092  0.20111454  0.73093992  0.79803532  0.3673248   0.83588207\n",
      "   0.7605353   0.65056688  0.77260882  0.97456235  0.99578589  0.95878625\n",
      "   0.5628162   0.19272986  0.9719373   0.87138981  0.90205061  0.93553007\n",
      "   0.79980719  0.7209754   0.94241846  0.92542517  0.77800441  0.85394764\n",
      "   0.84225214  0.95943052  0.73323929  0.9793362   0.83485395  0.69031972\n",
      "   0.96663672  0.69195378  0.99078661  0.79981482  0.7884267   0.92038661\n",
      "   0.83911848  0.78280449  0.88478273  0.8912639   0.7507599   0.82208514\n",
      "   0.79101217  0.66562098  0.53250813  0.71029115  0.65803242  0.98759162\n",
      "   0.62346435  0.79696089  0.82103026  0.4344936   0.97080821  0.49855995\n",
      "   0.46535838  0.54589325  0.73803264  0.82034153  0.68656683  0.55084378\n",
      "   0.71129549  0.20250426  0.3567985   0.609514    0.76645529  0.57807541\n",
      "   0.6893304   0.47320023  0.58470869  0.43679988  0.46788806  0.4172447\n",
      "   0.41430262  0.26063991  0.52325523  0.52845782  0.60988301  0.42956662\n",
      "   0.61808157  0.63858086  0.48537135  0.5766204   0.48011985  0.38371196\n",
      "   0.34205362  0.57216841  0.44956684  0.43903115  0.57810915]]\n",
      "reduceddim = [[ 0.09469698  0.05944517  0.03083582 -0.01264528 -0.01655304 -0.04446443\n",
      "   0.03536202 -0.06425677  0.0264277  -0.04793306  0.05995931 -0.00077318\n",
      "   0.07254232 -0.01528761 -0.05400608  0.01173445  0.01164935 -0.04443838\n",
      "   0.05903999 -0.08086472]]\n",
      "loss = (1.7288885, 0.034525335)\n"
     ]
    }
   ],
   "source": [
    "x_sample = np.ones((1, n_items)) * 0.2\n",
    "x_reconstruct = np.multiply(trained_vae.reconstruct(x_sample), np.greater(x_sample, 0.1))\n",
    "x_reduceddim = trained_vae.transform(x_sample)\n",
    "x_loss = trained_vae.loss(x_sample, x_reconstruct)\n",
    "print('x = {}'.format(x_sample))\n",
    "print('reconstructed = {}'.format(x_reconstruct))\n",
    "print('reduceddim = {}'.format(x_reduceddim))\n",
    "print('loss = {}'.format(x_loss)) # this should be very big b/c the input 'x' is very unlikely given its distribution"
   ]
  },
  {
   "cell_type": "code",
   "execution_count": 9,
   "metadata": {
    "collapsed": false
   },
   "outputs": [
    {
     "data": {
      "text/plain": [
       "(1.7288885, 0.034525335)"
      ]
     },
     "execution_count": 9,
     "metadata": {},
     "output_type": "execute_result"
    }
   ],
   "source": [
    "# shouldn't change from previous cell (i.e. b/c no additional sampling has occurred)\n",
    "trained_vae.loss(x_sample, x_reconstruct)"
   ]
  },
  {
   "cell_type": "code",
   "execution_count": null,
   "metadata": {
    "collapsed": true
   },
   "outputs": [],
   "source": []
  }
 ],
 "metadata": {
  "kernelspec": {
   "display_name": "Python 3",
   "language": "python",
   "name": "python3"
  },
  "language_info": {
   "codemirror_mode": {
    "name": "ipython",
    "version": 3
   },
   "file_extension": ".py",
   "mimetype": "text/x-python",
   "name": "python",
   "nbconvert_exporter": "python",
   "pygments_lexer": "ipython3",
   "version": "3.5.2"
  }
 },
 "nbformat": 4,
 "nbformat_minor": 1
}
