{
 "cells": [
  {
   "cell_type": "markdown",
   "metadata": {},
   "source": [
    "See DeepAutoEncodersExample.java and VariationalAutoEncodersExample.java in ~/code/dl4j-examples.\n",
    "\n",
    "Abandoning DL4J for now because its data transformation abilities don't seem to be very developed--or at least they require a lot of OO style coding overhead.  Will try TensorFlow instead."
   ]
  },
  {
   "cell_type": "code",
   "execution_count": 0,
   "metadata": {
    "collapsed": false
   },
   "outputs": [
    {
     "ename": "",
     "evalue": "",
     "output_type": "error",
     "traceback": [
      "\u001b[31mammonite.runtime.tools.DependencyThing$IvyResolutionException: failed to resolve dependencies:",
      "  file:/home/fred/.m2/repository/org/javassist/javassist/3.18.2-GA/javassist-3.18.2-GA.jar: not found: /home/fred/.m2/repository/org/javassist/javassist/3.18.2-GA/javassist-3.18.2-GA.jar",
      "  file:/home/fred/.m2/repository/com/twelvemonkeys/imageio/imageio-core/3.1.1/imageio-core-3.1.1-tests.jar: not found: /home/fred/.m2/repository/com/twelvemonkeys/imageio/imageio-core/3.1.1/imageio-core-3.1.1-tests.jar\u001b[39m",
      "  ammonite.runtime.tools.DependencyThing.resolveArtifact(\u001b[32mDependencyThing.scala\u001b[39m:\u001b[32m117\u001b[39m)",
      "  ammonite.interp.Interpreter.loadIvy(\u001b[32mInterpreter.scala\u001b[39m:\u001b[32m657\u001b[39m)",
      "  ammonite.runtime.ImportHook$BaseIvy$$anonfun$resolve$2.liftedTree1$1(\u001b[32mImportHook.scala\u001b[39m:\u001b[32m182\u001b[39m)",
      "  ammonite.runtime.ImportHook$BaseIvy$$anonfun$resolve$2.apply(\u001b[32mImportHook.scala\u001b[39m:\u001b[32m182\u001b[39m)",
      "  ammonite.runtime.ImportHook$BaseIvy$$anonfun$resolve$2.apply(\u001b[32mImportHook.scala\u001b[39m:\u001b[32m176\u001b[39m)",
      "  ammonite.util.Res$Success.flatMap(\u001b[32mRes.scala\u001b[39m:\u001b[32m58\u001b[39m)",
      "  ammonite.runtime.ImportHook$BaseIvy.resolve(\u001b[32mImportHook.scala\u001b[39m:\u001b[32m176\u001b[39m)",
      "  ammonite.runtime.ImportHook$BaseIvy$$anonfun$handle$4$$anonfun$apply$3.apply(\u001b[32mImportHook.scala\u001b[39m:\u001b[32m191\u001b[39m)",
      "  ammonite.runtime.ImportHook$BaseIvy$$anonfun$handle$4$$anonfun$apply$3.apply(\u001b[32mImportHook.scala\u001b[39m:\u001b[32m191\u001b[39m)",
      "  ammonite.util.Res$$anonfun$1.apply(\u001b[32mRes.scala\u001b[39m:\u001b[32m34\u001b[39m)",
      "  ammonite.util.Res$$anonfun$1.apply(\u001b[32mRes.scala\u001b[39m:\u001b[32m31\u001b[39m)",
      "  scala.collection.LinearSeqOptimized$class.foldLeft(\u001b[32mLinearSeqOptimized.scala\u001b[39m:\u001b[32m124\u001b[39m)",
      "  scala.collection.immutable.List.foldLeft(\u001b[32mList.scala\u001b[39m:\u001b[32m84\u001b[39m)",
      "  ammonite.util.Res$.map(\u001b[32mRes.scala\u001b[39m:\u001b[32m31\u001b[39m)",
      "  ammonite.runtime.ImportHook$BaseIvy$$anonfun$handle$4.apply(\u001b[32mImportHook.scala\u001b[39m:\u001b[32m191\u001b[39m)",
      "  ammonite.runtime.ImportHook$BaseIvy$$anonfun$handle$4.apply(\u001b[32mImportHook.scala\u001b[39m:\u001b[32m190\u001b[39m)",
      "  ammonite.util.Res$Success.flatMap(\u001b[32mRes.scala\u001b[39m:\u001b[32m58\u001b[39m)",
      "  ammonite.runtime.ImportHook$BaseIvy.handle(\u001b[32mImportHook.scala\u001b[39m:\u001b[32m190\u001b[39m)",
      "  ammonite.interp.Interpreter$$anonfun$resolveSingleImportHook$3.apply(\u001b[32mInterpreter.scala\u001b[39m:\u001b[32m180\u001b[39m)",
      "  ammonite.interp.Interpreter$$anonfun$resolveSingleImportHook$3.apply(\u001b[32mInterpreter.scala\u001b[39m:\u001b[32m179\u001b[39m)",
      "  ammonite.util.Res$Success.flatMap(\u001b[32mRes.scala\u001b[39m:\u001b[32m58\u001b[39m)",
      "  ammonite.interp.Interpreter.resolveSingleImportHook(\u001b[32mInterpreter.scala\u001b[39m:\u001b[32m179\u001b[39m)",
      "  ammonite.interp.Interpreter$$anonfun$resolveImportHooks$2.apply(\u001b[32mInterpreter.scala\u001b[39m:\u001b[32m228\u001b[39m)",
      "  ammonite.interp.Interpreter$$anonfun$resolveImportHooks$2.apply(\u001b[32mInterpreter.scala\u001b[39m:\u001b[32m228\u001b[39m)",
      "  ammonite.util.Res$$anonfun$1.apply(\u001b[32mRes.scala\u001b[39m:\u001b[32m34\u001b[39m)",
      "  ammonite.util.Res$$anonfun$1.apply(\u001b[32mRes.scala\u001b[39m:\u001b[32m31\u001b[39m)",
      "  scala.collection.IndexedSeqOptimized$class.foldl(\u001b[32mIndexedSeqOptimized.scala\u001b[39m:\u001b[32m57\u001b[39m)",
      "  scala.collection.IndexedSeqOptimized$class.foldLeft(\u001b[32mIndexedSeqOptimized.scala\u001b[39m:\u001b[32m66\u001b[39m)",
      "  scala.collection.mutable.ArrayBuffer.foldLeft(\u001b[32mArrayBuffer.scala\u001b[39m:\u001b[32m48\u001b[39m)",
      "  ammonite.util.Res$.map(\u001b[32mRes.scala\u001b[39m:\u001b[32m31\u001b[39m)",
      "  ammonite.interp.Interpreter.resolveImportHooks(\u001b[32mInterpreter.scala\u001b[39m:\u001b[32m228\u001b[39m)",
      "  ammonite.interp.Interpreter$$anonfun$processLine$2.apply(\u001b[32mInterpreter.scala\u001b[39m:\u001b[32m242\u001b[39m)",
      "  ammonite.interp.Interpreter$$anonfun$processLine$2.apply(\u001b[32mInterpreter.scala\u001b[39m:\u001b[32m238\u001b[39m)",
      "  ammonite.util.Catching.flatMap(\u001b[32mRes.scala\u001b[39m:\u001b[32m109\u001b[39m)",
      "  ammonite.interp.Interpreter.processLine(\u001b[32mInterpreter.scala\u001b[39m:\u001b[32m238\u001b[39m)",
      "  jupyter.scala.Interp$$anonfun$7$$anonfun$8.apply(\u001b[32mInterp.scala\u001b[39m:\u001b[32m137\u001b[39m)",
      "  jupyter.scala.Interp$$anonfun$7$$anonfun$8.apply(\u001b[32mInterp.scala\u001b[39m:\u001b[32m136\u001b[39m)",
      "  jupyter.scala.Capture$$anonfun$jupyter$scala$Capture$$withErr$1.apply(\u001b[32mCapture.scala\u001b[39m:\u001b[32m46\u001b[39m)",
      "  scala.util.DynamicVariable.withValue(\u001b[32mDynamicVariable.scala\u001b[39m:\u001b[32m58\u001b[39m)",
      "  scala.Console$.withErr(\u001b[32mConsole.scala\u001b[39m:\u001b[32m80\u001b[39m)",
      "  jupyter.scala.Capture$.jupyter$scala$Capture$$withErr(\u001b[32mCapture.scala\u001b[39m:\u001b[32m42\u001b[39m)",
      "  jupyter.scala.Capture$$anonfun$3.apply(\u001b[32mCapture.scala\u001b[39m:\u001b[32m59\u001b[39m)",
      "  jupyter.scala.Capture$$anonfun$withOut$1.apply(\u001b[32mCapture.scala\u001b[39m:\u001b[32m37\u001b[39m)",
      "  scala.util.DynamicVariable.withValue(\u001b[32mDynamicVariable.scala\u001b[39m:\u001b[32m58\u001b[39m)",
      "  scala.Console$.withOut(\u001b[32mConsole.scala\u001b[39m:\u001b[32m53\u001b[39m)",
      "  jupyter.scala.Capture$.withOut(\u001b[32mCapture.scala\u001b[39m:\u001b[32m33\u001b[39m)",
      "  jupyter.scala.Capture$.withOutAndErr(\u001b[32mCapture.scala\u001b[39m:\u001b[32m59\u001b[39m)",
      "  jupyter.scala.Capture$.apply(\u001b[32mCapture.scala\u001b[39m:\u001b[32m106\u001b[39m)",
      "  jupyter.scala.Interp.jupyter$scala$Interp$$capturingOutput(\u001b[32mInterp.scala\u001b[39m:\u001b[32m102\u001b[39m)",
      "  jupyter.scala.Interp$$anonfun$7.apply(\u001b[32mInterp.scala\u001b[39m:\u001b[32m136\u001b[39m)",
      "  jupyter.scala.Interp$$anonfun$7.apply(\u001b[32mInterp.scala\u001b[39m:\u001b[32m128\u001b[39m)",
      "  ammonite.util.Res$Success.map(\u001b[32mRes.scala\u001b[39m:\u001b[32m63\u001b[39m)",
      "  jupyter.scala.Interp.interpret(\u001b[32mInterp.scala\u001b[39m:\u001b[32m128\u001b[39m)",
      "  jupyter.kernel.interpreter.InterpreterHandler$$anonfun$jupyter$kernel$interpreter$InterpreterHandler$$execute$1$$anonfun$apply$6.apply(\u001b[32mInterpreterHandler.scala\u001b[39m:\u001b[32m113\u001b[39m)",
      "  jupyter.kernel.interpreter.InterpreterHandler$$anonfun$jupyter$kernel$interpreter$InterpreterHandler$$execute$1$$anonfun$apply$6.apply(\u001b[32mInterpreterHandler.scala\u001b[39m:\u001b[32m95\u001b[39m)",
      "  jupyter.kernel.interpreter.InterpreterHandler$$anonfun$jupyter$kernel$interpreter$InterpreterHandler$$publishing$1$$anonfun$2.apply(\u001b[32mInterpreterHandler.scala\u001b[39m:\u001b[32m60\u001b[39m)",
      "  jupyter.kernel.interpreter.InterpreterHandler$$anonfun$jupyter$kernel$interpreter$InterpreterHandler$$publishing$1$$anonfun$2.apply(\u001b[32mInterpreterHandler.scala\u001b[39m:\u001b[32m60\u001b[39m)",
      "  scalaz.concurrent.Task$.Try(\u001b[32mTask.scala\u001b[39m:\u001b[32m457\u001b[39m)",
      "  scalaz.concurrent.Task$$anonfun$unsafeStart$1.apply(\u001b[32mTask.scala\u001b[39m:\u001b[32m363\u001b[39m)",
      "  scalaz.concurrent.Task$$anonfun$unsafeStart$1.apply(\u001b[32mTask.scala\u001b[39m:\u001b[32m363\u001b[39m)",
      "  scalaz.concurrent.Future$$anonfun$apply$15$$anon$3.call(\u001b[32mFuture.scala\u001b[39m:\u001b[32m432\u001b[39m)",
      "  scalaz.concurrent.Future$$anonfun$apply$15$$anon$3.call(\u001b[32mFuture.scala\u001b[39m:\u001b[32m432\u001b[39m)",
      "  java.util.concurrent.FutureTask.run(\u001b[32mFutureTask.java\u001b[39m:\u001b[32m266\u001b[39m)",
      "  java.util.concurrent.ThreadPoolExecutor.runWorker(\u001b[32mThreadPoolExecutor.java\u001b[39m:\u001b[32m1142\u001b[39m)",
      "  java.util.concurrent.ThreadPoolExecutor$Worker.run(\u001b[32mThreadPoolExecutor.java\u001b[39m:\u001b[32m617\u001b[39m)",
      "  java.lang.Thread.run(\u001b[32mThread.java\u001b[39m:\u001b[32m745\u001b[39m)"
     ]
    }
   ],
   "source": [
    "import $ivy.`org.slf4j:slf4j-nop:1.7.12`\n",
    "\n",
    "// the `::` is used to represent Scala dependencies, similar to `%%` in SBT's dependency\n",
    "// syntax. If you want Java dependencies, you can load them using the `org:library:version` format\n",
    "// [http://www.lihaoyi.com/Ammonite/]\n",
    "import $ivy.`org.deeplearning4j:deeplearning4j-core:0.7.2`\n",
    "import org.datavec.api.transform.schema.Schema\n",
    "import org.datavec.api.transform.TransformProcess\n",
    "\n",
    "import $ivy.`org.datavec::datavec-spark:0.7.2`\n",
    "import org.datavec.spark.transform.SparkTransformExecutor"
   ]
  },
  {
   "cell_type": "code",
   "execution_count": 0,
   "metadata": {
    "collapsed": false
   },
   "outputs": [
    {
     "name": "stderr",
     "output_type": "stream",
     "text": [
      "cmd0.sc:4: not found: value Schema\n",
      "val schema = new Schema.Builder()\n",
      "                 ^cmd0.sc:10: not found: value TransformProcess\n",
      "val tp = new TransformProcess.Builder(schema).removeColumns(\"timestamp\").build()\n",
      "             ^"
     ]
    },
    {
     "ename": "",
     "evalue": "",
     "output_type": "error",
     "traceback": [
      "Compilation Failed"
     ]
    }
   ],
   "source": [
    "val datasets_path = \"/home/fred/data/amazon\"\n",
    "val datafile = new java.io.File(datasets_path, \"ratings_Baby.csv\").toString\n",
    "\n",
    "val schema = new Schema.Builder()\n",
    "    .addColumnsString(\"user\", \"item\")\n",
    "    .addColumnsDouble(\"rating\")\n",
    "    .addColumnsString(\"timestamp\")\n",
    "    .build();\n",
    "\n",
    "val tp = new TransformProcess.Builder(schema).removeColumns(\"timestamp\").build()"
   ]
  },
  {
   "cell_type": "code",
   "execution_count": 0,
   "metadata": {
    "collapsed": false
   },
   "outputs": [
    {
     "ename": "",
     "evalue": "",
     "output_type": "error",
     "traceback": [
      "\u001b[31mammonite.runtime.tools.DependencyThing$IvyResolutionException: failed to resolve dependencies:",
      "  file:/home/fred/.m2/repository/org/apache/hadoop/hadoop-yarn-server-nodemanager/2.2.0/hadoop-yarn-server-nodemanager-2.2.0.jar: not found: /home/fred/.m2/repository/org/apache/hadoop/hadoop-yarn-server-nodemanager/2.2.0/hadoop-yarn-server-nodemanager-2.2.0.jar",
      "  file:/home/fred/.m2/repository/org/tukaani/xz/1.0/xz-1.0.jar: not found: /home/fred/.m2/repository/org/tukaani/xz/1.0/xz-1.0.jar\u001b[39m",
      "  ammonite.runtime.tools.DependencyThing.resolveArtifact(\u001b[32mDependencyThing.scala\u001b[39m:\u001b[32m117\u001b[39m)",
      "  ammonite.interp.Interpreter.loadIvy(\u001b[32mInterpreter.scala\u001b[39m:\u001b[32m657\u001b[39m)",
      "  ammonite.runtime.ImportHook$BaseIvy$$anonfun$resolve$2.liftedTree1$1(\u001b[32mImportHook.scala\u001b[39m:\u001b[32m182\u001b[39m)",
      "  ammonite.runtime.ImportHook$BaseIvy$$anonfun$resolve$2.apply(\u001b[32mImportHook.scala\u001b[39m:\u001b[32m182\u001b[39m)",
      "  ammonite.runtime.ImportHook$BaseIvy$$anonfun$resolve$2.apply(\u001b[32mImportHook.scala\u001b[39m:\u001b[32m176\u001b[39m)",
      "  ammonite.util.Res$Success.flatMap(\u001b[32mRes.scala\u001b[39m:\u001b[32m58\u001b[39m)",
      "  ammonite.runtime.ImportHook$BaseIvy.resolve(\u001b[32mImportHook.scala\u001b[39m:\u001b[32m176\u001b[39m)",
      "  ammonite.runtime.ImportHook$BaseIvy$$anonfun$handle$4$$anonfun$apply$3.apply(\u001b[32mImportHook.scala\u001b[39m:\u001b[32m191\u001b[39m)",
      "  ammonite.runtime.ImportHook$BaseIvy$$anonfun$handle$4$$anonfun$apply$3.apply(\u001b[32mImportHook.scala\u001b[39m:\u001b[32m191\u001b[39m)",
      "  ammonite.util.Res$$anonfun$1.apply(\u001b[32mRes.scala\u001b[39m:\u001b[32m34\u001b[39m)",
      "  ammonite.util.Res$$anonfun$1.apply(\u001b[32mRes.scala\u001b[39m:\u001b[32m31\u001b[39m)",
      "  scala.collection.LinearSeqOptimized$class.foldLeft(\u001b[32mLinearSeqOptimized.scala\u001b[39m:\u001b[32m124\u001b[39m)",
      "  scala.collection.immutable.List.foldLeft(\u001b[32mList.scala\u001b[39m:\u001b[32m84\u001b[39m)",
      "  ammonite.util.Res$.map(\u001b[32mRes.scala\u001b[39m:\u001b[32m31\u001b[39m)",
      "  ammonite.runtime.ImportHook$BaseIvy$$anonfun$handle$4.apply(\u001b[32mImportHook.scala\u001b[39m:\u001b[32m191\u001b[39m)",
      "  ammonite.runtime.ImportHook$BaseIvy$$anonfun$handle$4.apply(\u001b[32mImportHook.scala\u001b[39m:\u001b[32m190\u001b[39m)",
      "  ammonite.util.Res$Success.flatMap(\u001b[32mRes.scala\u001b[39m:\u001b[32m58\u001b[39m)",
      "  ammonite.runtime.ImportHook$BaseIvy.handle(\u001b[32mImportHook.scala\u001b[39m:\u001b[32m190\u001b[39m)",
      "  ammonite.interp.Interpreter$$anonfun$resolveSingleImportHook$3.apply(\u001b[32mInterpreter.scala\u001b[39m:\u001b[32m180\u001b[39m)",
      "  ammonite.interp.Interpreter$$anonfun$resolveSingleImportHook$3.apply(\u001b[32mInterpreter.scala\u001b[39m:\u001b[32m179\u001b[39m)",
      "  ammonite.util.Res$Success.flatMap(\u001b[32mRes.scala\u001b[39m:\u001b[32m58\u001b[39m)",
      "  ammonite.interp.Interpreter.resolveSingleImportHook(\u001b[32mInterpreter.scala\u001b[39m:\u001b[32m179\u001b[39m)",
      "  ammonite.interp.Interpreter$$anonfun$resolveImportHooks$2.apply(\u001b[32mInterpreter.scala\u001b[39m:\u001b[32m228\u001b[39m)",
      "  ammonite.interp.Interpreter$$anonfun$resolveImportHooks$2.apply(\u001b[32mInterpreter.scala\u001b[39m:\u001b[32m228\u001b[39m)",
      "  ammonite.util.Res$$anonfun$1.apply(\u001b[32mRes.scala\u001b[39m:\u001b[32m34\u001b[39m)",
      "  ammonite.util.Res$$anonfun$1.apply(\u001b[32mRes.scala\u001b[39m:\u001b[32m31\u001b[39m)",
      "  scala.collection.IndexedSeqOptimized$class.foldl(\u001b[32mIndexedSeqOptimized.scala\u001b[39m:\u001b[32m57\u001b[39m)",
      "  scala.collection.IndexedSeqOptimized$class.foldLeft(\u001b[32mIndexedSeqOptimized.scala\u001b[39m:\u001b[32m66\u001b[39m)",
      "  scala.collection.mutable.ArrayBuffer.foldLeft(\u001b[32mArrayBuffer.scala\u001b[39m:\u001b[32m48\u001b[39m)",
      "  ammonite.util.Res$.map(\u001b[32mRes.scala\u001b[39m:\u001b[32m31\u001b[39m)",
      "  ammonite.interp.Interpreter.resolveImportHooks(\u001b[32mInterpreter.scala\u001b[39m:\u001b[32m228\u001b[39m)",
      "  ammonite.interp.Interpreter$$anonfun$processLine$2.apply(\u001b[32mInterpreter.scala\u001b[39m:\u001b[32m242\u001b[39m)",
      "  ammonite.interp.Interpreter$$anonfun$processLine$2.apply(\u001b[32mInterpreter.scala\u001b[39m:\u001b[32m238\u001b[39m)",
      "  ammonite.util.Catching.flatMap(\u001b[32mRes.scala\u001b[39m:\u001b[32m109\u001b[39m)",
      "  ammonite.interp.Interpreter.processLine(\u001b[32mInterpreter.scala\u001b[39m:\u001b[32m238\u001b[39m)",
      "  jupyter.scala.Interp$$anonfun$7$$anonfun$8.apply(\u001b[32mInterp.scala\u001b[39m:\u001b[32m137\u001b[39m)",
      "  jupyter.scala.Interp$$anonfun$7$$anonfun$8.apply(\u001b[32mInterp.scala\u001b[39m:\u001b[32m136\u001b[39m)",
      "  jupyter.scala.Capture$$anonfun$jupyter$scala$Capture$$withErr$1.apply(\u001b[32mCapture.scala\u001b[39m:\u001b[32m46\u001b[39m)",
      "  scala.util.DynamicVariable.withValue(\u001b[32mDynamicVariable.scala\u001b[39m:\u001b[32m58\u001b[39m)",
      "  scala.Console$.withErr(\u001b[32mConsole.scala\u001b[39m:\u001b[32m80\u001b[39m)",
      "  jupyter.scala.Capture$.jupyter$scala$Capture$$withErr(\u001b[32mCapture.scala\u001b[39m:\u001b[32m42\u001b[39m)",
      "  jupyter.scala.Capture$$anonfun$3.apply(\u001b[32mCapture.scala\u001b[39m:\u001b[32m59\u001b[39m)",
      "  jupyter.scala.Capture$$anonfun$withOut$1.apply(\u001b[32mCapture.scala\u001b[39m:\u001b[32m37\u001b[39m)",
      "  scala.util.DynamicVariable.withValue(\u001b[32mDynamicVariable.scala\u001b[39m:\u001b[32m58\u001b[39m)",
      "  scala.Console$.withOut(\u001b[32mConsole.scala\u001b[39m:\u001b[32m53\u001b[39m)",
      "  jupyter.scala.Capture$.withOut(\u001b[32mCapture.scala\u001b[39m:\u001b[32m33\u001b[39m)",
      "  jupyter.scala.Capture$.withOutAndErr(\u001b[32mCapture.scala\u001b[39m:\u001b[32m59\u001b[39m)",
      "  jupyter.scala.Capture$.apply(\u001b[32mCapture.scala\u001b[39m:\u001b[32m106\u001b[39m)",
      "  jupyter.scala.Interp.jupyter$scala$Interp$$capturingOutput(\u001b[32mInterp.scala\u001b[39m:\u001b[32m102\u001b[39m)",
      "  jupyter.scala.Interp$$anonfun$7.apply(\u001b[32mInterp.scala\u001b[39m:\u001b[32m136\u001b[39m)",
      "  jupyter.scala.Interp$$anonfun$7.apply(\u001b[32mInterp.scala\u001b[39m:\u001b[32m128\u001b[39m)",
      "  ammonite.util.Res$Success.map(\u001b[32mRes.scala\u001b[39m:\u001b[32m63\u001b[39m)",
      "  jupyter.scala.Interp.interpret(\u001b[32mInterp.scala\u001b[39m:\u001b[32m128\u001b[39m)",
      "  jupyter.kernel.interpreter.InterpreterHandler$$anonfun$jupyter$kernel$interpreter$InterpreterHandler$$execute$1$$anonfun$apply$6.apply(\u001b[32mInterpreterHandler.scala\u001b[39m:\u001b[32m113\u001b[39m)",
      "  jupyter.kernel.interpreter.InterpreterHandler$$anonfun$jupyter$kernel$interpreter$InterpreterHandler$$execute$1$$anonfun$apply$6.apply(\u001b[32mInterpreterHandler.scala\u001b[39m:\u001b[32m95\u001b[39m)",
      "  jupyter.kernel.interpreter.InterpreterHandler$$anonfun$jupyter$kernel$interpreter$InterpreterHandler$$publishing$1$$anonfun$2.apply(\u001b[32mInterpreterHandler.scala\u001b[39m:\u001b[32m60\u001b[39m)",
      "  jupyter.kernel.interpreter.InterpreterHandler$$anonfun$jupyter$kernel$interpreter$InterpreterHandler$$publishing$1$$anonfun$2.apply(\u001b[32mInterpreterHandler.scala\u001b[39m:\u001b[32m60\u001b[39m)",
      "  scalaz.concurrent.Task$.Try(\u001b[32mTask.scala\u001b[39m:\u001b[32m457\u001b[39m)",
      "  scalaz.concurrent.Task$$anonfun$unsafeStart$1.apply(\u001b[32mTask.scala\u001b[39m:\u001b[32m363\u001b[39m)",
      "  scalaz.concurrent.Task$$anonfun$unsafeStart$1.apply(\u001b[32mTask.scala\u001b[39m:\u001b[32m363\u001b[39m)",
      "  scalaz.concurrent.Future$$anonfun$apply$15$$anon$3.call(\u001b[32mFuture.scala\u001b[39m:\u001b[32m432\u001b[39m)",
      "  scalaz.concurrent.Future$$anonfun$apply$15$$anon$3.call(\u001b[32mFuture.scala\u001b[39m:\u001b[32m432\u001b[39m)",
      "  java.util.concurrent.FutureTask.run(\u001b[32mFutureTask.java\u001b[39m:\u001b[32m266\u001b[39m)",
      "  java.util.concurrent.ThreadPoolExecutor.runWorker(\u001b[32mThreadPoolExecutor.java\u001b[39m:\u001b[32m1142\u001b[39m)",
      "  java.util.concurrent.ThreadPoolExecutor$Worker.run(\u001b[32mThreadPoolExecutor.java\u001b[39m:\u001b[32m617\u001b[39m)",
      "  java.lang.Thread.run(\u001b[32mThread.java\u001b[39m:\u001b[32m745\u001b[39m)"
     ]
    }
   ],
   "source": [
    "import $ivy.`org.apache.spark::spark-sql:2.1.0`\n",
    "//import $ivy.`org.apache.spark::spark-mllib:2.1.0`\n",
    "import $ivy.`org.jupyter-scala::spark:0.4.0-RC3`\n",
    "import org.apache.spark._\n",
    "import jupyter.spark._ // this might obviate the need for `import sqlContext.implicits._` below"
   ]
  },
  {
   "cell_type": "code",
   "execution_count": 0,
   "metadata": {
    "collapsed": false
   },
   "outputs": [
    {
     "name": "stderr",
     "output_type": "stream",
     "text": [
      "cmd0.sc:1: not found: type SparkConf\n",
      "@transient val sparkConf = new SparkConf().setAppName(\"20170217_DL4J\").setMaster(\"local[*]\")\n",
      "                               ^cmd0.sc:2: not found: type JupyterSparkContext\n",
      "@transient val sc = new JupyterSparkContext(sparkConf)\n",
      "                        ^"
     ]
    },
    {
     "ename": "",
     "evalue": "",
     "output_type": "error",
     "traceback": [
      "Compilation Failed"
     ]
    }
   ],
   "source": [
    "@transient val sparkConf = new SparkConf().setAppName(\"20170217_DL4J\").setMaster(\"local[*]\")\n",
    "@transient val sc = new JupyterSparkContext(sparkConf)"
   ]
  },
  {
   "cell_type": "code",
   "execution_count": 0,
   "metadata": {
    "collapsed": false
   },
   "outputs": [
    {
     "name": "stderr",
     "output_type": "stream",
     "text": [
      "cmd0.sc:1: not found: value sc\n",
      "val lines = sc.textFile(datafile)\n",
      "            ^cmd0.sc:1: not found: value datafile\n",
      "val lines = sc.textFile(datafile)\n",
      "                        ^cmd0.sc:2: not found: value SparkTransformExecutor\n",
      "val processed = SparkTransformExecutor.execute(lines, tp)\n",
      "                ^cmd0.sc:2: not found: value tp\n",
      "val processed = SparkTransformExecutor.execute(lines, tp)\n",
      "                                                      ^"
     ]
    },
    {
     "ename": "",
     "evalue": "",
     "output_type": "error",
     "traceback": [
      "Compilation Failed"
     ]
    }
   ],
   "source": [
    "val lines = sc.textFile(datafile)\n",
    "val processed = SparkTransformExecutor.execute(lines, tp)\n",
    "processed.take(2)"
   ]
  },
  {
   "cell_type": "code",
   "execution_count": null,
   "metadata": {
    "collapsed": true
   },
   "outputs": [],
   "source": []
  },
  {
   "cell_type": "code",
   "execution_count": null,
   "metadata": {
    "collapsed": true
   },
   "outputs": [],
   "source": []
  }
 ],
 "metadata": {
  "kernelspec": {
   "display_name": "Scala",
   "language": "scala",
   "name": "scala"
  },
  "language_info": {
   "codemirror_mode": "text/x-scala",
   "file_extension": ".scala",
   "mimetype": "text/x-scala",
   "name": "scala211",
   "nbconvert_exporter": "scala",
   "pygments_lexer": "scala",
   "version": "2.11.8"
  }
 },
 "nbformat": 4,
 "nbformat_minor": 1
}
