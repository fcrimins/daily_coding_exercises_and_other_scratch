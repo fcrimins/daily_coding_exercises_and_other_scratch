{
 "cells": [
  {
   "cell_type": "markdown",
   "metadata": {},
   "source": [
    "This Notebook combines the data used in http://localhost:8888/notebooks/20170126_TensorFlow_Matrix_Factorization_Recommender.ipynb, which used an implementation of Alternating Least Squares, with the algorithm used in http://localhost:8888/notebooks/20170221_VAE.ipynb, which uses a Variational Autoencoder instead.\n",
    "\n",
    "Also see this article file:///home/fred/Documents/articles/recommender_systems/hybrid_collab_filt_w_AEs_1603.00806v3.pdf which explains a bit about the VAE method applied to sparse data (and incorporation of side information to help w/ the cold start problem).\n",
    "\n",
    "From [Matrix Factorization with Tensorflow](http://katbailey.github.io/post/matrix-factorization-with-tensorflow/):\n",
    "> I just started reading this paper on [Probabilistic Matrix Factorization](http://papers.nips.cc/paper/3208-probabilistic-matrix-factorization.pdf), which says in its introduction:\n",
    "> > Since **most real-world datasets are sparse**, most entries in R will be missing. In those cases, the sum-squared **distance is computed only for the observed entries** of the target matrix R. As shown by (…), this seemingly minor modification results in a **difficult non-convex optimization problem** which cannot be solved using standard SVD implementations.\n"
   ]
  },
  {
   "cell_type": "code",
   "execution_count": 1,
   "metadata": {
    "collapsed": true
   },
   "outputs": [],
   "source": [
    "# https://github.com/ipython/ipykernel/issues/111\n",
    "# Create logger\n",
    "import logging\n",
    "logger = logging.getLogger()\n",
    "logger.setLevel(logging.DEBUG)\n",
    "import sys # create STDERR handler\n",
    "handler = logging.StreamHandler(sys.stderr)\n",
    "# ch.setLevel(logging.DEBUG)\n",
    "formatter = logging.Formatter('%(asctime)-15s : %(levelname)s : %(message)s') # - %(name)s %(clientip)s %(user)-8s\n",
    "handler.setFormatter(formatter) # create formatter and add it to the handler\n",
    "logger.handlers = [handler] # set STDERR handler as the only handler "
   ]
  },
  {
   "cell_type": "code",
   "execution_count": 2,
   "metadata": {
    "collapsed": true
   },
   "outputs": [],
   "source": [
    "import numpy as np\n",
    "import tensorflow as tf\n",
    "%matplotlib inline\n",
    "import matplotlib\n",
    "import matplotlib.pyplot as plt\n",
    "from importlib import reload\n",
    "np.random.seed(0)\n",
    "tf.set_random_seed(0)"
   ]
  },
  {
   "cell_type": "code",
   "execution_count": 3,
   "metadata": {
    "collapsed": false
   },
   "outputs": [
    {
     "name": "stderr",
     "output_type": "stream",
     "text": [
      "2017-03-06 08:04:14,270 : INFO : tf_autoencoder imported\n"
     ]
    }
   ],
   "source": [
    "from tf_autoencoder import sparse_pivot\n",
    "from tf_autoencoder import vae\n",
    "from tf_autoencoder import dataset\n",
    "from tf_autoencoder import train"
   ]
  },
  {
   "cell_type": "code",
   "execution_count": 4,
   "metadata": {
    "collapsed": false
   },
   "outputs": [
    {
     "name": "stderr",
     "output_type": "stream",
     "text": [
      "/home/fred/anaconda3/lib/python3.5/site-packages/ipykernel/__main__.py:8: ParserWarning: Falling back to the 'python' engine because the 'c' engine does not support regex separators (separators > 1 char and different from '\\s+' are interpreted as regex); you can avoid this warning by specifying engine='python'.\n"
     ]
    },
    {
     "name": "stdout",
     "output_type": "stream",
     "text": [
      "user           int64\n",
      "item           int64\n",
      "rating       float64\n",
      "timestamp      int64\n",
      "dtype: object\n",
      "Index(['user', 'item', 'rating', 'timestamp'], dtype='object')\n",
      "(10000054, 4)\n"
     ]
    }
   ],
   "source": [
    "import os\n",
    "import pandas as pd\n",
    "\n",
    "# specify which dataset to use\n",
    "which = '10m' # 100k, 1m or 10m\n",
    "\n",
    "datapath = os.path.join(os.getcwd(), 'data', 'movielens-{}'.format(which), ('u.data' if which=='100k' else 'ratings.dat'))\n",
    "df = pd.read_csv(datapath, sep=('\\t' if which=='100k' else '::'), header=None, names=['user', 'item', 'rating', 'timestamp'])\n",
    "print('{}\\n{}\\n{}'.format(df.dtypes, df.columns, df.shape))"
   ]
  },
  {
   "cell_type": "code",
   "execution_count": 39,
   "metadata": {
    "collapsed": false
   },
   "outputs": [
    {
     "name": "stdout",
     "output_type": "stream",
     "text": [
      "scale=5.0, min_rating=0.1\n",
      "trshape=(55902, 10677); vashape=(13975, 10677); n_nonzero=[8013020, 1986858, 0]; pct_nonzero=1.340%\n",
      "   user  item  rating  timestamp\n",
      "0     1   122     5.0  838985046\n",
      "1     1   185     5.0  838983525\n",
      "2     1   231     5.0  838983392\n",
      "3     1   292     5.0  838983421\n",
      "(1, 10677)\n",
      "(1, 38)\n",
      "[[ 1.   0.2  0.4  0.6  0.8  0.8  0.8  0.6  0.4  0.6  0.6  0.4  0.6  0.6\n",
      "   0.6  0.8  0.2  1.   0.8  0.6  0.8  0.2  0.6  0.2  0.4  1.   0.8  1.   0.6\n",
      "   0.2  1.   0.2  0.4  0.8  0.6  1.   0.6  0.8]]\n",
      "(1, 23)\n",
      "[[ 1.   1.   0.8  1.   0.6  1.   0.4  0.4  0.8  0.6  1.   1.   0.4  0.2\n",
      "   0.8  0.2  0.4  1.   0.2  0.6  0.2  1.   0.8]]\n"
     ]
    }
   ],
   "source": [
    "reload(sparse_pivot)\n",
    "\n",
    "# including both training and test data in the same matrix so that all users and\n",
    "# items are accounted for in the resulting DataSet\n",
    "n_training = int(8e6)\n",
    "n_validation = int(2e6) #+ 54 #+ 209\n",
    "n_test = 0\n",
    "trmat, vamat, temat = sparse_pivot.f(df,#[0 : n_training + n_validation + n_test],\n",
    "                                     'user', 'item', 'rating',\n",
    "                                     n_training, n_validation, n_test,\n",
    "                                     shuffle=True, # shuffle should be true when using 'datapoint' b/c of potential user-based ordering in the files (e.g. in the 10m file)\n",
    "                                     split_basis='index')  # 'index' => disjoint'ify users; 'datapoint' => split users\n",
    "\n",
    "# scale down to [0,1], though note that 0 indicates missing value in csr_matrix, this is what was causing\n",
    "# the cost to go to NaN at times, self.x_reconstr_mean would end up with a value of 1.0 which would cause\n",
    "# tf.log(1e-10 + 1 - self.x_reconstr_mean) to be -inf\n",
    "scale = np.max(df['rating'])  # e.g. 5\n",
    "trmat = trmat / scale\n",
    "vamat = vamat / scale\n",
    "temat = temat / scale\n",
    "min_rating = np.min(df['rating']) / scale\n",
    "print('scale={}, min_rating={}'.format(scale, min_rating))\n",
    "\n",
    "# number of *unique* users and items\n",
    "n_users = trmat.shape[0]\n",
    "n_items = trmat.shape[1] # scipy.sparse.csr_matrix\n",
    "n_densetot = n_users * n_items\n",
    "pct_nonzero = n_training * 100 / n_densetot\n",
    "print('trshape={}; vashape={}; n_nonzero=[{}, {}, {}]; pct_nonzero={:.3f}%'.format(trmat.shape,\n",
    "                                                                     vamat.shape,\n",
    "                                                                     len(trmat.nonzero()[0]),\n",
    "                                                                     len(vamat.nonzero()[0]),\n",
    "                                                                     len(temat.nonzero()[0]),\n",
    "                                                                     pct_nonzero))\n",
    "print(df[0:4])\n",
    "# print(np.where(np.logical_and(trmat>=0.05, trmat<=0.15))) # really, really slow\n",
    "x = trmat[2]\n",
    "print(x.shape)\n",
    "x = x[x != 0.0]\n",
    "print(x.shape)\n",
    "print(x) # see the 0.7s and 0.9s! (only when using 10m dataset though)\n",
    "x = vamat[2]#34879] # 34879/80\n",
    "x = x[x != 0.0]\n",
    "print(x.shape)\n",
    "print(x)"
   ]
  },
  {
   "cell_type": "code",
   "execution_count": 40,
   "metadata": {
    "collapsed": false
   },
   "outputs": [
    {
     "name": "stdout",
     "output_type": "stream",
     "text": [
      "[588928817, 403782, 930593, 2594482, 2774733, 1233247]\n",
      "[   76183.   308732.    95050.   634878.   295715.  1889599.   704883.\n",
      "  2306663.   468070.  1233247.]\n"
     ]
    },
    {
     "data": {
      "image/png": "[encoded data removed]",
      "text/plain": [
       "<matplotlib.figure.Figure at 0x7f606cdfacc0>"
      ]
     },
     "metadata": {},
     "output_type": "display_data"
    }
   ],
   "source": [
    "# we'd like to sample evenly from the 5 recommendation levels, which is basically impossible\n",
    "# when sampling individual users (because on average they're all individually biased), so maybe\n",
    "# more weight needs to be given in the loss function to under-represented ratings\n",
    "\n",
    "# use numpy to compute the values in the histogram\n",
    "nzcounts = [np.sum(np.diff((trmat > (i+1) / 5 - 0.01).indptr)) for i in range(5)]\n",
    "cumcounts = [n_densetot] + nzcounts + [0]\n",
    "counts = [i0 - i1 for i0, i1 in zip(cumcounts, cumcounts[1:])]\n",
    "print(counts)\n",
    "\n",
    "# or just use matplotlib to get histogram counts\n",
    "fig, ax = plt.subplots(1, 1, figsize=(4, 3))\n",
    "counts1 = ax.hist(trmat.data, bins=[((i+1) / 10 - 0.05) for i in range(10)] + [100000])\n",
    "print(counts1[0])\n",
    "ax.set_title(\"Ratings histogram\")\n",
    "ax.set_xlim(0.05, 1.05);"
   ]
  },
  {
   "cell_type": "markdown",
   "metadata": {},
   "source": [
    "### TODO: predict 0/1 unrated/rated first, then given 'rated' predict 'rating' ...\n",
    "... because some users may not give ratings (i.e. their ratings are implicit in their having marked something in the first place) but our loss function only considers rated items so it may predict constants for these users while we actually want to predict what to read vs. not to read first and only how high the user will rate it second\n",
    "\n",
    "\"we can't just treat the missing data as unknowns, instead we have to treat a user not listening to an artist as being a signal that the user might not like that artist.\" [http://www.benfrederickson.com/matrix-factorization/]"
   ]
  },
  {
   "cell_type": "markdown",
   "metadata": {},
   "source": [
    "### TODO: after encoding, run k-means clustering to deterime representative values for each of ...\n",
    "... the clusters.  encoding seems to separate points in space but it doesn't do so in a way s.t. you end up with 1-hot vectors.  k-means clustering is a way to transform or rotate axes perhaps that converts back to 1-hot and from there representatives can be assigned to each bit of the 1-hot.  in other words a natural language \"meaning\" can be given to each cluster"
   ]
  },
  {
   "cell_type": "markdown",
   "metadata": {},
   "source": [
    "### TODO: haven't yet incoporated side information (see hybrid_collab_filt_w_AEs_1603.00806v3.pdf)"
   ]
  },
  {
   "cell_type": "code",
   "execution_count": 48,
   "metadata": {
    "collapsed": false,
    "scrolled": true
   },
   "outputs": [
    {
     "name": "stdout",
     "output_type": "stream",
     "text": [
      "rdist = [ 0.09507402  0.38528794  0.11861945  0.79230802  0.36904313  2.35816084\n",
      "  0.87967208  2.87864376  0.58413682  1.53905394]\n"
     ]
    },
    {
     "name": "stderr",
     "output_type": "stream",
     "text": [
      "/home/fred/anaconda3/lib/python3.5/site-packages/tensorflow/python/ops/gradients_impl.py:91: UserWarning: Converting sparse IndexedSlices to a dense Tensor of unknown shape. This may consume a large amount of memory.\n",
      "  \"Converting sparse IndexedSlices to a dense Tensor of unknown shape. \"\n",
      "2017-03-06 17:13:08,247 : INFO : vabatch.shape = (500, 10677)\n",
      "2017-03-06 17:13:08,247 : INFO : Training on 55902 data points\n"
     ]
    },
    {
     "name": "stdout",
     "output_type": "stream",
     "text": [
      "batch_size = 500\n"
     ]
    },
    {
     "name": "stderr",
     "output_type": "stream",
     "text": [
      "2017-03-06 17:14:57,715 : INFO : Epoch: 001 cost/va=411.3/410.4 (245.3 +160.8 +1.34; d=39%) rmse/va=0.2251/0.2322\n",
      "2017-03-06 17:14:57,716 : INFO :           [0.291, 0.163, 0.131, 0.215, 0.352] avg=0.230 stdev=0.081\n",
      "2017-03-06 17:16:46,168 : INFO : Epoch: 002 cost/va=403.8/409.2 (242.8 +159.2 +0.66; d=39%) rmse/va=0.2222/0.2315\n",
      "2017-03-06 17:16:46,169 : INFO :           [0.290, 0.164, 0.132, 0.212, 0.345] avg=0.229 stdev=0.079\n",
      "2017-03-06 17:18:34,454 : INFO : Epoch: 003 cost/va=397.7/404.2 (238.5 +156.1 +1.62; d=39%) rmse/va=0.2188/0.2270\n",
      "2017-03-06 17:18:34,454 : INFO :           [0.286, 0.165, 0.133, 0.208, 0.337] avg=0.226 stdev=0.076\n",
      "2017-03-06 17:20:22,895 : INFO : Epoch: 004 cost/va=391.7/401.5 (234.2 +153.1 +2.68; d=39%) rmse/va=0.2140/0.2235\n",
      "2017-03-06 17:20:22,896 : INFO :           [0.284, 0.167, 0.135, 0.202, 0.326] avg=0.223 stdev=0.072\n",
      "2017-03-06 17:22:11,097 : INFO : Epoch: 005 cost/va=385.2/400.9 (229.6 +150.0 +3.44; d=38%) rmse/va=0.2107/0.2278\n",
      "2017-03-06 17:22:11,098 : INFO :           [0.283, 0.170, 0.137, 0.197, 0.316] avg=0.220 stdev=0.068\n",
      "2017-03-06 17:23:59,451 : INFO : Epoch: 006 cost/va=378.8/400.7 (225.7 +147.2 +3.78; d=38%) rmse/va=0.2085/0.2249\n",
      "2017-03-06 17:23:59,452 : INFO :           [0.281, 0.172, 0.138, 0.194, 0.311] avg=0.219 stdev=0.066\n",
      "2017-03-06 17:49:20,343 : INFO : Epoch: 021 cost/va=337.1/391.7 (199.0 +130.6 +5.89; d=38%) rmse/va=0.1911/0.2094\n",
      "2017-03-06 17:49:20,344 : INFO :           [0.256, 0.173, 0.145, 0.177, 0.272] avg=0.204 stdev=0.050\n",
      "2017-03-06 18:22:57,892 : INFO : Epoch: 041 cost/va=309.7/391.5 (181.4 +118.8 +7.80; d=38%) rmse/va=0.1806/0.2024\n",
      "2017-03-06 18:22:57,892 : INFO :           [0.235, 0.171, 0.148, 0.169, 0.250] avg=0.194 stdev=0.040\n",
      "2017-03-06 18:56:36,294 : INFO : Epoch: 061 cost/va=286.1/391.7 (165.7 +108.8 +9.81; d=38%) rmse/va=0.1707/0.2040\n",
      "2017-03-06 18:56:36,295 : INFO :           [0.214, 0.166, 0.149, 0.162, 0.232] avg=0.185 stdev=0.032\n",
      "2017-03-06 19:30:36,603 : INFO : Epoch: 081 cost/va=265.7/400.1 (152.8 +100.0 +10.98; d=37%) rmse/va=0.1620/0.2037\n",
      "2017-03-06 19:30:36,604 : INFO :           [0.197, 0.163, 0.148, 0.155, 0.216] avg=0.176 stdev=0.026\n",
      "2017-03-06 20:04:41,278 : INFO : Epoch: 101 cost/va=253.3/405.1 (145.0 +94.7 +11.66; d=37%) rmse/va=0.1569/0.2030\n",
      "2017-03-06 20:04:41,279 : INFO :           [0.186, 0.159, 0.148, 0.151, 0.206] avg=0.170 stdev=0.022\n",
      "2017-03-06 20:39:08,893 : INFO : Epoch: 121 cost/va=245.9/402.5 (140.2 +91.8 +12.14; d=37%) rmse/va=0.1533/0.2004\n",
      "2017-03-06 20:39:08,893 : INFO :           [0.178, 0.157, 0.148, 0.148, 0.199] avg=0.166 stdev=0.020\n",
      "2017-03-06 21:13:03,107 : INFO : Epoch: 141 cost/va=240.4/407.1 (136.6 +89.5 +12.57; d=37%) rmse/va=0.1508/0.2003\n",
      "2017-03-06 21:13:03,107 : INFO :           [0.171, 0.154, 0.148, 0.147, 0.194] avg=0.163 stdev=0.018\n",
      "2017-03-06 21:47:36,999 : INFO : Epoch: 161 cost/va=237.1/412.2 (134.4 +88.0 +12.80; d=37%) rmse/va=0.1489/0.2009\n",
      "2017-03-06 21:47:36,999 : INFO :           [0.167, 0.152, 0.147, 0.145, 0.190] avg=0.161 stdev=0.017\n",
      "2017-03-06 22:22:19,536 : INFO : Epoch: 181 cost/va=233.1/410.2 (131.9 +86.4 +13.07; d=37%) rmse/va=0.1473/0.2022\n",
      "2017-03-06 22:22:19,536 : INFO :           [0.160, 0.151, 0.147, 0.144, 0.187] avg=0.158 stdev=0.016\n",
      "2017-03-06 22:56:43,892 : INFO : Epoch: 201 cost/va=231.1/409.2 (130.6 +85.5 +13.22; d=36%) rmse/va=0.1460/0.2024\n",
      "2017-03-06 22:56:43,892 : INFO :           [0.159, 0.150, 0.147, 0.143, 0.184] avg=0.157 stdev=0.015\n",
      "2017-03-06 23:31:00,850 : INFO : Epoch: 221 cost/va=228.9/410.0 (129.4 +84.5 +13.41; d=36%) rmse/va=0.1452/0.2034\n",
      "2017-03-06 23:31:00,850 : INFO :           [0.155, 0.149, 0.147, 0.143, 0.183] avg=0.155 stdev=0.014\n",
      "2017-03-07 00:05:16,260 : INFO : Epoch: 241 cost/va=227.9/415.0 (128.4 +84.2 +13.64; d=36%) rmse/va=0.1445/0.2023\n",
      "2017-03-07 00:05:16,261 : INFO :           [0.153, 0.147, 0.147, 0.142, 0.181] avg=0.154 stdev=0.014\n",
      "2017-03-07 00:40:01,482 : INFO : Epoch: 261 cost/va=226.0/415.0 (127.4 +83.5 +13.73; d=36%) rmse/va=0.1434/0.2018\n",
      "2017-03-07 00:40:01,483 : INFO :           [0.152, 0.146, 0.147, 0.142, 0.179] avg=0.153 stdev=0.013\n",
      "2017-03-07 01:14:43,465 : INFO : Epoch: 281 cost/va=224.6/412.8 (126.2 +82.8 +13.81; d=36%) rmse/va=0.1429/0.2028\n",
      "2017-03-07 01:14:43,465 : INFO :           [0.149, 0.146, 0.147, 0.141, 0.177] avg=0.152 stdev=0.013\n",
      "2017-03-07 01:50:01,420 : INFO : Epoch: 301 cost/va=224.1/412.3 (126.0 +82.5 +13.99; d=36%) rmse/va=0.1422/0.2054\n",
      "2017-03-07 01:50:01,421 : INFO :           [0.147, 0.145, 0.147, 0.141, 0.176] avg=0.151 stdev=0.013\n",
      "2017-03-07 02:24:48,932 : INFO : Epoch: 321 cost/va=222.3/411.3 (124.9 +81.8 +14.00; d=36%) rmse/va=0.1421/0.2009\n",
      "2017-03-07 02:24:48,933 : INFO :           [0.146, 0.145, 0.147, 0.140, 0.175] avg=0.151 stdev=0.012\n",
      "2017-03-07 02:59:24,387 : INFO : Epoch: 341 cost/va=220.6/412.2 (123.9 +81.1 +14.06; d=36%) rmse/va=0.1414/0.2019\n",
      "2017-03-07 02:59:24,388 : INFO :           [0.145, 0.144, 0.147, 0.140, 0.174] avg=0.150 stdev=0.012\n",
      "2017-03-07 03:34:32,093 : INFO : Epoch: 361 cost/va=220.2/417.2 (123.5 +80.9 +14.13; d=36%) rmse/va=0.1408/0.2017\n",
      "2017-03-07 03:34:32,094 : INFO :           [0.144, 0.144, 0.147, 0.139, 0.173] avg=0.150 stdev=0.012\n",
      "2017-03-07 03:51:51,310 : INFO : Epoch: 371 cost/va=219.2/411.9 (123.2 +80.5 +14.18; d=36%) rmse/va=0.1404/0.2028\n",
      "2017-03-07 03:51:51,311 : INFO :           [0.143, 0.144, 0.147, 0.139, 0.172] avg=0.149 stdev=0.012\n",
      "2017-03-07 03:51:51,311 : INFO : Training complete\n"
     ]
    }
   ],
   "source": [
    "reload(vae)\n",
    "reload(dataset)\n",
    "reload(train)\n",
    "\n",
    "trdata = dataset.DataSet(trmat)\n",
    "vadata = dataset.DataSet(vamat)\n",
    "\n",
    "# TODO: the fact that using far fewer units in the hidden layers (e.g. 4 vs. 40) doesn't affect\n",
    "# the RMSE could mean that the weights are all converging to the same values (i.e. lots of redundancy\n",
    "# in a larger network)\n",
    "\n",
    "# the original MNIST notebook uses 500/500/20 for these values\n",
    "nh1 = 600 # int(n_items/10)  # 1/10 of n_input? as suggested here: https://hal.inria.fr/hal-01256422v1/document\n",
    "nh2 = 400 # int(n_items/12)  # 1/12 of n_input? as suggested in same paper (except that this is their central layer!)\n",
    "nz = 100  # 20? or was it 200? suggested by same paper?\n",
    "\n",
    "netarch = {'n_input':n_items, # number of items (1m=3706, 100k=1682)\n",
    "           'n_hidden_recog_1':nh1, # 1st layer encoder neurons\n",
    "           'n_hidden_recog_2':nh2, # 2nd layer encoder neurons\n",
    "           'n_z':nz,               # dimensionality of latent space\n",
    "           'n_hidden_gener_1':nh2, # 1st layer decoder neurons\n",
    "           'n_hidden_gener_2':nh1} # 2nd layer decoder neurons\n",
    "\n",
    "# see comment below on why maximizing the reconstruction-to-input slope might be\n",
    "# a good way to set this exponent parameter (0 is equivalent to not using rdist)\n",
    "rdist_pow = 1\n",
    "rdist = counts1[0]\n",
    "rdist = rdist / sum(rdist) * len(rdist) # normalize mean to 1.0: [ 0.3095     0.5620625  1.35425    1.709625   1.0645625]\n",
    "if rdist_pow != 1: print('rdist0 = {}'.format(rdist))\n",
    "rdist = np.power(rdist, rdist_pow) # accentuate: [ 0.17218328  0.42138291  1.57597116  2.23537963  1.09839044]\n",
    "rdist = rdist / sum(rdist) * len(rdist) # renormalize: [ 0.15643618  0.38284515  1.43184002  2.030942    0.99793666]\n",
    "print('rdist = {}'.format(rdist))\n",
    "\n",
    "untrained_vae = vae.VariationalAutoencoder(netarch,\n",
    "                                           learning_rate=0.001,\n",
    "                                           corruption_level=0.3,\n",
    "                                           use_rmse=True,\n",
    "                                           min_rating=min_rating,\n",
    "                                           rmse_correction=100.0, # rloss should start out around 200 and shrink\n",
    "                                           rdist=rdist)           # lloss should start small and grow\n",
    "\n",
    "batch_size = 500 # int(min(100, n_users/50))\n",
    "print('batch_size = {}'.format(batch_size)) # 400 iters: rmse/va=0.1364/0.1947 but dloss/rloss=0.37 (w/ 600, 400, 40)\n",
    "trained_vae = train.train(untrained_vae, trdata, vadata, display_step=20, training_epochs=371, batch_size=batch_size)"
   ]
  },
  {
   "cell_type": "markdown",
   "metadata": {},
   "source": [
    "Evaluation of unsupervised learning depends on end application:\n",
    "> Word2vec training is an unsupervised task, there’s no good way to objectively evaluate the result. Evaluation depends on your end application. [https://rare-technologies.com/word2vec-tutorial/]\n",
    "\n",
    "FWC - Is \"end application\" defined as \"reconstruction\" in this case?  Is an autoencoder really even unsupervised?"
   ]
  },
  {
   "cell_type": "markdown",
   "metadata": {},
   "source": [
    "The stdev of RMSE across the 5 ratings is something else that could be added to the optimization function in order to optimize the rdist exponent in VariationalAutoencoder class."
   ]
  },
  {
   "cell_type": "code",
   "execution_count": 98,
   "metadata": {
    "collapsed": false
   },
   "outputs": [
    {
     "name": "stdout",
     "output_type": "stream",
     "text": [
      "Training: poly: 0.5694 x + 0.2767; uniqpoly: 0.6294 x + 0.2392\n",
      "Validation: poly: 0.6351 x + 0.2264; uniqpoly: 0.6116 x + 0.2438\n"
     ]
    },
    {
     "data": {
      "image/png": "[encoded data removed]",
      "text/plain": [
       "<matplotlib.figure.Figure at 0x7f6015896518>"
      ]
     },
     "metadata": {},
     "output_type": "display_data"
    }
   ],
   "source": [
    "x_sample = trdata.next_batch(4).todense()\n",
    "x_reconstr = trained_vae.reconstruct(x_sample)\n",
    "va_sample = vadata.next_batch(4).todense()\n",
    "va_reconstr = trained_vae.reconstruct(va_sample)\n",
    "\n",
    "fig, ax = plt.subplots(2, 2, figsize=(11, 7))\n",
    "for i in range(2):\n",
    "    title = 'Training' if i == 0 else 'Validation'\n",
    "    sample = x_sample if i == 0 else va_sample\n",
    "    reconstr = x_reconstr if i == 0 else va_reconstr\n",
    "    mask = np.greater(sample, 0.01)\n",
    "    errors = reconstr - sample\n",
    "\n",
    "    xs = np.asarray(sample[mask]).flatten()     # numpy has flatten,\n",
    "    ys = np.asarray(reconstr[mask]).reshape(-1) # but tensorflow only has reshape(-1)\n",
    "    ax[i][0].plot(xs, ys, 'b.')\n",
    "\n",
    "    uniqxs = np.unique(xs)\n",
    "    uniqys = [np.mean(ys[np.where(xs == x)]) for x in uniqxs]\n",
    "\n",
    "    # the coefficient of this polynomial might be worth maximizing as it shows that the model is producing\n",
    "    # a good separation between low and high ratings and not just fitting a constant to the mode of ratings\n",
    "    poly = np.poly1d(np.polyfit(xs, ys, 1))\n",
    "    uniqpoly = np.poly1d(np.polyfit(uniqxs, uniqys, 1)) # polynomial over the averages for each x value\n",
    "    print('{}: poly: {}; uniqpoly: {}'.format(title, str(poly)[2:], str(uniqpoly)[2:]))\n",
    "\n",
    "    ax[i][0].set_title('{} Reconstructions'.format(title))\n",
    "    ax[i][0].plot(uniqxs, poly(uniqxs))\n",
    "    ax[i][0].plot(uniqxs, uniqpoly(uniqxs))\n",
    "    ax[i][0].plot(uniqxs, uniqxs)\n",
    "    ax[i][0].set_xlim(0.0, 1.1); ax[i][0].set_ylim(0, 1.21)\n",
    "\n",
    "    ax[i][1].set_title('{} Errors'.format(title))\n",
    "    es = np.asarray(errors[mask]).reshape(-1)\n",
    "    bp = ax[i][1].boxplot([es[xs == x] for x in uniqxs], sym='b.', positions=uniqxs, widths=0.04,\n",
    "                          whiskerprops={'color':'#000000', 'linestyle':'-'})\n",
    "    #ax[i][1].plot(xs, es, 'b.')\n",
    "    ax[i][1].plot([0.0, 1.1], [0, 0], 'r')\n",
    "    ax[i][1].set_xlim(0.0, 1.1); ax[i][1].set_ylim(-0.61, 0.61);"
   ]
  },
  {
   "cell_type": "code",
   "execution_count": 62,
   "metadata": {
    "collapsed": false
   },
   "outputs": [
    {
     "name": "stdout",
     "output_type": "stream",
     "text": [
      "x = [[ 0.7  0.5  0.8  0.7  0.8  0.6  0.7  0.6  0.7  0.4  0.9  0.8  0.2  0.6\n",
      "   0.8  0.7  0.6  1.   0.8  0.7  0.8  0.8  0.8  0.9  0.8  0.4  0.6  1.   0.6\n",
      "   0.9  0.4  0.5  0.9  0.6  0.7  0.8  0.8  0.9  0.6  0.8  0.8  0.8  0.6\n",
      "   0.8  0.6  0.6  0.8  0.8  0.3  0.9  0.7  0.4  0.9  0.7  0.8  0.8  0.8\n",
      "   0.3  0.3  0.8  0.9  0.8  1.   0.4  0.8  0.9  1.   1.   0.7  0.4  0.7\n",
      "   0.9  0.7  0.7  0.7  0.7  0.9  0.8  0.8  0.5  0.3  0.7  0.8  0.7  0.9\n",
      "   0.9  0.6  0.7  0.7  1.   0.5  0.9  0.8  0.8  0.7  0.8  0.6  0.9  0.7\n",
      "   0.8  0.7  0.7  0.7  0.6  0.7  0.6  0.9  0.9  0.8  0.8  0.9  0.5  0.6\n",
      "   0.7  0.6  0.8  0.9  1.   0.8  0.8  0.6  0.9  1.   0.8  1.   1.   0.6\n",
      "   0.7  1.   0.8  0.8  0.2  0.8  0.6  0.4  1.   1.   0.8  0.7  0.6  0.9\n",
      "   0.7  0.8  0.2  0.8  0.7  0.8  0.6  0.8  0.9  0.8  0.9  0.8  0.6  0.7\n",
      "   0.8  1.   0.9  0.6  0.8  0.8  0.8  0.8  0.9  0.8  0.6  0.8  0.7  0.8\n",
      "   0.8  0.8  0.9  0.9  0.9  0.7  0.7  0.6  0.9  0.8  1.   0.8  0.7  0.9  1.\n",
      "   0.9  0.8  0.8  0.8  0.9  0.8  0.8  0.7  0.7  0.8  1.   0.8  0.9  0.7\n",
      "   0.9  0.9  0.6  0.8  0.8]]\n",
      "reconstructed = [ 0.622033    0.52222013  0.66524082  0.61519444  0.71390426  0.36497039\n",
      "  0.70707893  0.71818739  0.62437892  0.62789661  0.86912036  0.7500909\n",
      "  0.28132012  0.67474163  0.71211076  0.77091849  0.5209986   0.79935956\n",
      "  0.71455574  0.77993011  0.89046824  0.82910937  0.84890282  0.7259056\n",
      "  0.77693158  0.63644558  0.4674314   0.55855078  0.51795769  0.74751419\n",
      "  0.34164569  0.47671956  0.61576897  0.43803295  0.59618735  0.71437144\n",
      "  0.78890616  0.72394156  0.64050561  0.77962589  0.81703472  0.36049613\n",
      "  0.51373786  0.62609214  0.61491114  0.45184043  0.76660967  0.84876412\n",
      "  0.2384989   0.83583558  0.7816183   0.40686387  0.86159855  0.88723844\n",
      "  0.73125935  0.53413242  0.54641801  0.29398063  0.54789501  0.51363307\n",
      "  0.40674496  0.66010553  0.70565313  0.54180592  0.71017843  0.88075173\n",
      "  0.71600151  0.91362435  0.70421189  0.38840622  0.69389755  0.64096767\n",
      "  0.76120877  0.38829333  0.74485445  0.66547966  0.85999507  0.41300827\n",
      "  0.91532016  0.66504169  0.61804467  0.65584356  0.74344617  0.60495341\n",
      "  0.70413643  0.84856772  0.79755104  0.70274407  0.6878376   0.70581174\n",
      "  0.4617331   0.78217691  0.70264256  0.51158595  0.67047155  0.60019606\n",
      "  0.5301795   0.75330454  0.63850027  0.5782969   0.82234961  0.34794551\n",
      "  0.75604773  0.52825183  0.61833268  0.45939469  0.76489943  0.69238019\n",
      "  0.48170388  0.70862955  0.87387139  0.68911272  0.7729497   0.82823431\n",
      "  0.40298286  0.93480957  0.88145065  0.88044333  0.89799875  0.60254568\n",
      "  0.71672964  0.81698769  0.83391047  0.99556291  0.89446121  0.84023005\n",
      "  0.58141774  0.57546741  0.83972675  0.81909966  0.84153438  0.16625221\n",
      "  0.6990487   0.73324507  0.29523471  0.82182664  0.81912953  0.72791505\n",
      "  0.78102678  0.4813498   0.55654162  0.80277026  0.89709139  0.20683496\n",
      "  0.7805087   0.87353146  0.95466381  0.67504257  0.66233468  0.79016721\n",
      "  0.78806484  0.89414698  0.85955209  0.82494873  0.85425812  0.94582158\n",
      "  0.82057256  0.78328723  0.69271648  0.83728921  0.85035831  0.82651317\n",
      "  0.67147273  0.83988613  0.76731294  0.45865408  0.81587732  0.79879731\n",
      "  0.82252449  0.78729987  0.79252368  0.91690159  0.90592271  0.94008482\n",
      "  0.79810524  0.95716202  0.57026929  0.69840527  0.86929375  0.87629426\n",
      "  0.89147711  0.67861491  0.80150139  0.91254348  0.81458569  0.80584222\n",
      "  0.90288687  0.73042649  0.87687784  0.89581454  0.92915952  0.82005328\n",
      "  0.59548283  0.86689281  0.92851925  0.92189413  0.88355601  0.76462668\n",
      "  0.94850892  0.92147022  0.75553811  0.93742073  0.78468847]\n",
      "errors = [[-0.077967    0.02222013 -0.13475918 -0.08480556 -0.08609574 -0.23502961\n",
      "   0.00707893  0.11818739 -0.07562108  0.22789661 -0.03087964 -0.0499091\n",
      "   0.08132012  0.07474163 -0.08788924  0.07091849 -0.0790014  -0.20064044\n",
      "  -0.08544426  0.07993011  0.09046824  0.02910937  0.04890282 -0.1740944\n",
      "  -0.02306842  0.23644558 -0.1325686  -0.44144922 -0.08204231 -0.15248581\n",
      "  -0.05835431 -0.02328044 -0.28423103 -0.16196705 -0.10381265 -0.08562856\n",
      "  -0.01109384 -0.17605844  0.04050561 -0.02037411  0.01703472 -0.43950387\n",
      "  -0.08626214 -0.17390786  0.01491114 -0.14815957 -0.03339033  0.04876412\n",
      "  -0.0615011  -0.06416442  0.0816183   0.00686387 -0.03840145  0.18723844\n",
      "  -0.06874065 -0.26586758 -0.25358199 -0.00601937  0.24789501 -0.28636693\n",
      "  -0.49325504 -0.13989447 -0.29434687  0.14180592 -0.08982157 -0.01924827\n",
      "  -0.28399849 -0.08637565  0.00421189 -0.01159378 -0.00610245 -0.25903233\n",
      "   0.06120877 -0.31170667  0.04485445 -0.03452034 -0.04000493 -0.38699173\n",
      "   0.11532016  0.16504169  0.31804467 -0.04415644 -0.05655383 -0.09504659\n",
      "  -0.19586357 -0.05143228  0.19755104  0.00274407 -0.0121624  -0.29418826\n",
      "  -0.0382669  -0.11782309 -0.09735744 -0.28841405 -0.02952845 -0.19980394\n",
      "  -0.0698205  -0.14669546 -0.06149973 -0.2217031   0.12234961 -0.35205449\n",
      "   0.05604773 -0.07174817 -0.08166732 -0.14060531 -0.13510057 -0.20761981\n",
      "  -0.31829612 -0.09137045 -0.02612861  0.18911272  0.1729497   0.12823431\n",
      "  -0.19701714  0.13480957 -0.01854935 -0.11955667  0.09799875 -0.19745432\n",
      "   0.11672964 -0.08301231 -0.16608953  0.19556291 -0.10553879 -0.15976995\n",
      "  -0.01858226 -0.12453259 -0.16027325  0.01909966  0.04153438 -0.03374779\n",
      "  -0.1009513   0.13324507 -0.10476529 -0.17817336 -0.18087047 -0.07208495\n",
      "   0.08102678 -0.1186502  -0.34345838  0.10277026  0.09709139  0.00683496\n",
      "  -0.0194913   0.17353146  0.15466381  0.07504257 -0.13766532 -0.10983279\n",
      "  -0.01193516 -0.00585302  0.05955209  0.22494873  0.15425812  0.14582158\n",
      "  -0.17942744 -0.11671277  0.09271648  0.03728921  0.05035831  0.02651317\n",
      "  -0.12852727 -0.06011387 -0.03268706 -0.14134592  0.01587732  0.09879731\n",
      "   0.02252449 -0.01270013 -0.00747632  0.01690159  0.00592271  0.04008482\n",
      "   0.09810524  0.25716202 -0.02973071 -0.20159473  0.06929375 -0.12370574\n",
      "   0.09147711 -0.02138509 -0.09849861 -0.08745652 -0.08541431  0.00584222\n",
      "   0.10288687 -0.06957351 -0.02312216  0.09581454  0.12915952  0.12005328\n",
      "  -0.10451717  0.06689281 -0.07148075  0.12189413 -0.01644399  0.06462668\n",
      "   0.04850892  0.02147022  0.15553811  0.13742073 -0.01531153]]\n",
      "reduceddim = [[  6.48914650e-03  -1.29653970e-02  -2.39078645e-02   1.88717106e-03\n",
      "    7.41864622e-01  -8.69268596e-01   5.35380049e-03   1.26552926e-02\n",
      "    9.76427924e-03   1.27965910e-02   1.48210134e-02  -7.32749328e-03\n",
      "   -1.87658798e-02  -2.27746344e-03  -1.91211514e-02   9.93952621e-03\n",
      "   -1.84077583e-02   1.35250533e+00  -7.61549314e-03  -1.65835302e-02\n",
      "   -2.26993859e-02  -7.55700190e-03  -4.41227015e-03   8.20581894e-03\n",
      "   -4.79774131e-03  -6.36074180e-03   1.10884206e-02   2.35753860e-02\n",
      "    1.41474348e-03   9.13671732e-01   6.19836058e-03   5.72742708e-03\n",
      "   -9.01875645e-03  -1.91049844e-01  -4.88311471e-03   3.61596853e-01\n",
      "    6.78469479e-01  -2.46922649e-03   1.71441510e-02  -2.22410168e-02]\n",
      " [ -2.67567728e-02  -2.35537235e-02  -2.94931754e-02  -2.44020801e-02\n",
      "    1.24431586e+00   1.83646822e+00  -2.49525011e-02  -3.14500881e-03\n",
      "    3.91948372e-02   9.52767441e-04   1.22523755e-02  -6.70728367e-03\n",
      "   -5.75901987e-03   1.08492747e-02   1.89491808e-02   1.40706524e-02\n",
      "   -4.67845835e-02  -6.67132854e-01  -2.57243644e-02   1.11688301e-02\n",
      "   -2.94394605e-02   2.12371610e-02  -6.71301410e-03  -1.29629560e-02\n",
      "    2.02484429e-04  -2.86170058e-02   2.79609803e-02   5.97557239e-03\n",
      "    4.57838215e-02   2.13470697e+00   8.69618077e-03   2.07038783e-02\n",
      "    6.54662494e-03   1.58546492e-02   1.97018832e-02   1.58575296e-01\n",
      "    7.25767136e-01  -2.80533284e-02   4.22493145e-02  -3.10289524e-02]]\n",
      "loss = (119.64198, 67.238739, 13.550047)\n",
      "tf.rmse = 0.14533133804798126\n",
      "np.rmse = 0.14533133249846816\n"
     ]
    }
   ],
   "source": [
    "x_errors = x_reconstr - x_sample\n",
    "x_mask = np.greater(x_sample, 0.01)\n",
    "x_reduceddim = trained_vae.transform(x_sample) # note that this doesn't sample z's, it only returns z_mean\n",
    "x_loss = trained_vae.loss(x_sample, x_reconstr)\n",
    "\n",
    "print('x = {}'.format(x_sample[x_mask]))\n",
    "print('reconstructed = {}'.format(x_reconstr[x_mask]))\n",
    "print('errors = {}'.format(x_errors[x_mask]))\n",
    "print('reduceddim = {}'.format(x_reduceddim))\n",
    "print('loss = {}'.format(x_loss))\n",
    "print('tf.rmse = {}'.format(trained_vae.rmse(x_sample, x_reconstr)))\n",
    "print('np.rmse = {}'.format(np.sqrt(np.mean(np.square(x_errors[x_mask])))))"
   ]
  },
  {
   "cell_type": "code",
   "execution_count": null,
   "metadata": {
    "collapsed": true
   },
   "outputs": [],
   "source": []
  }
 ],
 "metadata": {
  "kernelspec": {
   "display_name": "Python 3",
   "language": "python",
   "name": "python3"
  },
  "language_info": {
   "codemirror_mode": {
    "name": "ipython",
    "version": 3
   },
   "file_extension": ".py",
   "mimetype": "text/x-python",
   "name": "python",
   "nbconvert_exporter": "python",
   "pygments_lexer": "ipython3",
   "version": "3.5.2"
  }
 },
 "nbformat": 4,
 "nbformat_minor": 1
}
