{
 "cells": [
  {
   "cell_type": "markdown",
   "metadata": {},
   "source": [
    "#### [Matrix Factorization with Tensorflow](http://katbailey.github.io/post/matrix-factorization-with-tensorflow/) by Katherine Bailey\n",
    "* Data is located at /home/fred/notebooks/data/movielens-100k\n",
    "* Code is located at /home/fred/code/factorizer\n",
    "* Also see: [Matrix Factorization Techniques for Recommender Systems](file:///home/fred/Documents/articles/recommender_systems/mat_factorization_techs_for_rec_systems_koren_2009.pdf) (MFTRS) which is referenced in the article\n",
    "* Requirements:\n",
    "  * `pip install feather-format`\n",
    "  * Nope, that actually didn't work per the error described [here](https://github.com/wesm/feather/issues/268)\n",
    "  * Instead had to:\n",
    "    1. Confirm Conda environment `conda info --envs` [per here](http://conda.pydata.org/docs/using/envs.html)\n",
    "    2. `export CPPFLAGS='fabi-version=10'` per [here](https://gcc.gnu.org/onlinedocs/gcc-5.1.0/gcc/C_002b_002b-Dialect-Options.html)\n",
    "    3. `conda install feather-format -c conda-forge`"
   ]
  },
  {
   "cell_type": "code",
   "execution_count": 45,
   "metadata": {
    "collapsed": false
   },
   "outputs": [],
   "source": [
    "import feather  # really this is feather-format (feather was already taken I suppose)\n",
    "import os\n",
    "import pandas as pd\n",
    "datapath = os.path.join(os.getcwd(), 'data', 'movielens-100k', 'u.data')\n",
    "\n",
    "# http://pandas.pydata.org/pandas-docs/stable/generated/pandas.read_csv.html\n",
    "# these column names are required by factorizer.py\n",
    "df = pd.read_csv(datapath, sep='\\t', header=None, names=['user_id', 'item_id', 'rating', 'timestamp'])\n",
    "\n",
    "# InvalidArgumentError: indices[420] = 1586911 is not in [0, 1586126)\n",
    "df['user_id'] = df['user_id'].map(lambda x: x - 1)\n",
    "df['item_id'] = df['item_id'].map(lambda x: x - 1)\n",
    "\n",
    "featherpath = os.path.join(os.getcwd(), 'data', 'movielens-100k', 'u.feather')\n",
    "feather.write_dataframe(df, featherpath)"
   ]
  },
  {
   "cell_type": "code",
   "execution_count": 46,
   "metadata": {
    "collapsed": false,
    "scrolled": true
   },
   "outputs": [
    {
     "data": {
      "text/html": [
       "<div>\n",
       "<table border=\"1\" class=\"dataframe\">\n",
       "  <thead>\n",
       "    <tr style=\"text-align: right;\">\n",
       "      <th></th>\n",
       "      <th>user_id</th>\n",
       "      <th>item_id</th>\n",
       "      <th>rating</th>\n",
       "      <th>timestamp</th>\n",
       "    </tr>\n",
       "  </thead>\n",
       "  <tbody>\n",
       "    <tr>\n",
       "      <th>0</th>\n",
       "      <td>195</td>\n",
       "      <td>241</td>\n",
       "      <td>3</td>\n",
       "      <td>881250949</td>\n",
       "    </tr>\n",
       "    <tr>\n",
       "      <th>1</th>\n",
       "      <td>185</td>\n",
       "      <td>301</td>\n",
       "      <td>3</td>\n",
       "      <td>891717742</td>\n",
       "    </tr>\n",
       "    <tr>\n",
       "      <th>2</th>\n",
       "      <td>21</td>\n",
       "      <td>376</td>\n",
       "      <td>1</td>\n",
       "      <td>878887116</td>\n",
       "    </tr>\n",
       "  </tbody>\n",
       "</table>\n",
       "</div>"
      ],
      "text/plain": [
       "   user_id  item_id  rating  timestamp\n",
       "0      195      241       3  881250949\n",
       "1      185      301       3  891717742\n",
       "2       21      376       1  878887116"
      ]
     },
     "execution_count": 46,
     "metadata": {},
     "output_type": "execute_result"
    }
   ],
   "source": [
    "df[0:3]"
   ]
  },
  {
   "cell_type": "code",
   "execution_count": 47,
   "metadata": {
    "collapsed": false
   },
   "outputs": [
    {
     "data": {
      "text/plain": [
       "(100000, 4)"
      ]
     },
     "execution_count": 47,
     "metadata": {},
     "output_type": "execute_result"
    }
   ],
   "source": [
    "df.shape"
   ]
  },
  {
   "cell_type": "code",
   "execution_count": 48,
   "metadata": {
    "collapsed": false
   },
   "outputs": [
    {
     "data": {
      "text/plain": [
       "user_id            942\n",
       "item_id           1681\n",
       "rating               5\n",
       "timestamp    893286638\n",
       "dtype: int64"
      ]
     },
     "execution_count": 48,
     "metadata": {},
     "output_type": "execute_result"
    }
   ],
   "source": [
    "df.max()"
   ]
  },
  {
   "cell_type": "code",
   "execution_count": 49,
   "metadata": {
    "collapsed": false
   },
   "outputs": [
    {
     "data": {
      "text/plain": [
       "user_id              0\n",
       "item_id              0\n",
       "rating               1\n",
       "timestamp    874724710\n",
       "dtype: int64"
      ]
     },
     "execution_count": 49,
     "metadata": {},
     "output_type": "execute_result"
    }
   ],
   "source": [
    "df.min()"
   ]
  },
  {
   "cell_type": "code",
   "execution_count": 50,
   "metadata": {
    "collapsed": false
   },
   "outputs": [],
   "source": [
    "import sys\n",
    "sys.path.append('/home/fred/Documents/code/factorizer')\n",
    "import factorizer"
   ]
  },
  {
   "cell_type": "code",
   "execution_count": 78,
   "metadata": {
    "collapsed": false
   },
   "outputs": [
    {
     "data": {
      "text/plain": [
       "<module 'factorizer' from '/home/fred/Documents/code/factorizer/factorizer.py'>"
      ]
     },
     "execution_count": 78,
     "metadata": {},
     "output_type": "execute_result"
    }
   ],
   "source": [
    "import importlib\n",
    "importlib.reload(factorizer)"
   ]
  },
  {
   "cell_type": "code",
   "execution_count": 73,
   "metadata": {
    "collapsed": false
   },
   "outputs": [],
   "source": [
    "# import mock # http://stackoverflow.com/questions/18668947/how-do-i-set-sys-argv-so-i-can-unit-test-it\n",
    "origargv = sys.argv\n",
    "sys.argv = ['factorizer.py', featherpath, 100, 'user_bias', 10., 5]\n",
    "factorizer.main()\n",
    "sys.argv = origargv"
   ]
  },
  {
   "cell_type": "code",
   "execution_count": 70,
   "metadata": {
    "collapsed": false
   },
   "outputs": [],
   "source": [
    "origargv = sys.argv\n",
    "sys.argv = ['factorizer.py', featherpath, 100, 'item_bias', 10., 5]\n",
    "factorizer.main()\n",
    "sys.argv = origargv"
   ]
  },
  {
   "cell_type": "code",
   "execution_count": 79,
   "metadata": {
    "collapsed": false
   },
   "outputs": [
    {
     "name": "stdout",
     "output_type": "stream",
     "text": [
      "Final training RMSE 1.07456\n",
      "Final validation RMSE 1.08329\n"
     ]
    }
   ],
   "source": [
    "origargv = sys.argv\n",
    "sys.argv = ['factorizer.py', featherpath, 100, 'features', 10., 5]\n",
    "factorizer.main()\n",
    "sys.argv = origargv"
   ]
  },
  {
   "cell_type": "code",
   "execution_count": null,
   "metadata": {
    "collapsed": true
   },
   "outputs": [],
   "source": []
  }
 ],
 "metadata": {
  "kernelspec": {
   "display_name": "Python 3",
   "language": "python",
   "name": "python3"
  },
  "language_info": {
   "codemirror_mode": {
    "name": "ipython",
    "version": 3
   },
   "file_extension": ".py",
   "mimetype": "text/x-python",
   "name": "python",
   "nbconvert_exporter": "python",
   "pygments_lexer": "ipython3",
   "version": "3.5.2"
  }
 },
 "nbformat": 4,
 "nbformat_minor": 1
}
